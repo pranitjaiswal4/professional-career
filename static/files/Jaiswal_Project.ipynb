{
 "cells": [
  {
   "cell_type": "markdown",
   "metadata": {},
   "source": [
    "# Term Project - Data Mining - CSE 5334\n",
    "\n",
    "#### Name: Pranit Jaiswal\n",
    "#### UTA-ID: 1001816023"
   ]
  },
  {
   "cell_type": "markdown",
   "metadata": {},
   "source": [
    "# Goal: Given the review, Predict the rating\n",
    "#### (Use the board game geek review data)\n",
    "###### Download Link for data: https://www.kaggle.com/jvanelteren/boardgamegeek-reviews\n",
    "\n",
    "Given data contains 13M records of user ratings and reviews for board games.   \n",
    "We need to build a classifier which can predict 'rating' (1 to 10) as output when the input is 'review'."
   ]
  },
  {
   "cell_type": "markdown",
   "metadata": {},
   "source": [
    "# 1. Import all required libraries"
   ]
  },
  {
   "cell_type": "code",
   "execution_count": 1,
   "metadata": {},
   "outputs": [],
   "source": [
    "# imports here\n",
    "import numpy as np\n",
    "import pandas as pd\n",
    "import matplotlib.pyplot as plt\n",
    "import scipy as sp\n",
    "import csv\n",
    "import nltk\n",
    "import pickle\n",
    "import operator\n",
    "\n",
    "from nltk.corpus import stopwords\n",
    "from nltk.tokenize import word_tokenize\n",
    "\n",
    "from sklearn.feature_extraction.text import TfidfVectorizer\n",
    "from sklearn.model_selection import train_test_split\n",
    "\n",
    "from sklearn.naive_bayes import GaussianNB\n",
    "from sklearn.naive_bayes import MultinomialNB\n",
    "from sklearn.neighbors import KNeighborsClassifier\n",
    "from sklearn.svm import LinearSVC\n",
    "from sklearn.ensemble import RandomForestClassifier\n",
    "from sklearn.metrics import accuracy_score\n",
    "from sklearn.metrics import mean_squared_error\n",
    "\n",
    "import time"
   ]
  },
  {
   "cell_type": "markdown",
   "metadata": {},
   "source": [
    "# 2. Importing Data \n",
    "\n",
    "_____________________________________________________________________________________________________________________________\n",
    "a) Read data from CSV (Hosted on server)   \n",
    "b) Store data into dataframe\n",
    "_____________________________________________________________________________________________________________________________"
   ]
  },
  {
   "cell_type": "code",
   "execution_count": 2,
   "metadata": {},
   "outputs": [
    {
     "name": "stdout",
     "output_type": "stream",
     "text": [
      "runtime: 13.126911640167236 sec\n"
     ]
    }
   ],
   "source": [
    "start_time = time.time()\n",
    "\n",
    "# Read data from csv and store into dataframe\n",
    "comments_df = pd.read_csv(\"bgg-13m-reviews.csv\")\n",
    "# comments_df = pd.read_csv(\"http://download1347.mediafire.com/sgcfbmwpbqlg/m6k7mro06zypw8t/bgg-13m-reviews.csv\")\n",
    "\n",
    "end_time = time.time()\n",
    "print(\"runtime: %s sec\" % (end_time - start_time))"
   ]
  },
  {
   "cell_type": "markdown",
   "metadata": {},
   "source": [
    "_____________________________________________________________________________________________________________________________\n",
    "b) Check length of dataframe to verify if all the records are read properly which should be approx 13M\n",
    "_____________________________________________________________________________________________________________________________"
   ]
  },
  {
   "cell_type": "code",
   "execution_count": 3,
   "metadata": {},
   "outputs": [
    {
     "name": "stdout",
     "output_type": "stream",
     "text": [
      "Original length of dataset: 13170073\n"
     ]
    }
   ],
   "source": [
    "original_df_len = len(comments_df)\n",
    "print(\"Original length of dataset:\", original_df_len)"
   ]
  },
  {
   "cell_type": "code",
   "execution_count": 4,
   "metadata": {},
   "outputs": [
    {
     "name": "stdout",
     "output_type": "stream",
     "text": [
      "All records in the csv file are successfully loaded in dataframe!\n"
     ]
    }
   ],
   "source": [
    "if(original_df_len >= 13170073):\n",
    "    print(\"All records in the csv file are successfully loaded in dataframe!\")\n",
    "else:\n",
    "    print(\"You might have missed some data from csv file while reading.\")"
   ]
  },
  {
   "cell_type": "markdown",
   "metadata": {},
   "source": [
    "_______________________________________________________________________________________________________________________________\n",
    "c) Print and analyze dataframe for a rough idea before refining data\n",
    "_______________________________________________________________________________________________________________________________"
   ]
  },
  {
   "cell_type": "code",
   "execution_count": 5,
   "metadata": {},
   "outputs": [
    {
     "data": {
      "text/html": [
       "<div>\n",
       "<style scoped>\n",
       "    .dataframe tbody tr th:only-of-type {\n",
       "        vertical-align: middle;\n",
       "    }\n",
       "\n",
       "    .dataframe tbody tr th {\n",
       "        vertical-align: top;\n",
       "    }\n",
       "\n",
       "    .dataframe thead th {\n",
       "        text-align: right;\n",
       "    }\n",
       "</style>\n",
       "<table border=\"1\" class=\"dataframe\">\n",
       "  <thead>\n",
       "    <tr style=\"text-align: right;\">\n",
       "      <th></th>\n",
       "      <th>Unnamed: 0</th>\n",
       "      <th>user</th>\n",
       "      <th>rating</th>\n",
       "      <th>comment</th>\n",
       "      <th>ID</th>\n",
       "      <th>name</th>\n",
       "    </tr>\n",
       "  </thead>\n",
       "  <tbody>\n",
       "    <tr>\n",
       "      <td>0</td>\n",
       "      <td>0</td>\n",
       "      <td>sidehacker</td>\n",
       "      <td>10.0</td>\n",
       "      <td>NaN</td>\n",
       "      <td>13</td>\n",
       "      <td>Catan</td>\n",
       "    </tr>\n",
       "    <tr>\n",
       "      <td>1</td>\n",
       "      <td>1</td>\n",
       "      <td>Varthlokkur</td>\n",
       "      <td>10.0</td>\n",
       "      <td>NaN</td>\n",
       "      <td>13</td>\n",
       "      <td>Catan</td>\n",
       "    </tr>\n",
       "    <tr>\n",
       "      <td>2</td>\n",
       "      <td>2</td>\n",
       "      <td>dougthonus</td>\n",
       "      <td>10.0</td>\n",
       "      <td>Currently, this sits on my list as my favorite...</td>\n",
       "      <td>13</td>\n",
       "      <td>Catan</td>\n",
       "    </tr>\n",
       "    <tr>\n",
       "      <td>3</td>\n",
       "      <td>3</td>\n",
       "      <td>cypar7</td>\n",
       "      <td>10.0</td>\n",
       "      <td>I know it says how many plays, but many, many ...</td>\n",
       "      <td>13</td>\n",
       "      <td>Catan</td>\n",
       "    </tr>\n",
       "    <tr>\n",
       "      <td>4</td>\n",
       "      <td>4</td>\n",
       "      <td>ssmooth</td>\n",
       "      <td>10.0</td>\n",
       "      <td>NaN</td>\n",
       "      <td>13</td>\n",
       "      <td>Catan</td>\n",
       "    </tr>\n",
       "    <tr>\n",
       "      <td>...</td>\n",
       "      <td>...</td>\n",
       "      <td>...</td>\n",
       "      <td>...</td>\n",
       "      <td>...</td>\n",
       "      <td>...</td>\n",
       "      <td>...</td>\n",
       "    </tr>\n",
       "    <tr>\n",
       "      <td>13170068</td>\n",
       "      <td>3356495</td>\n",
       "      <td>pswissler</td>\n",
       "      <td>3.0</td>\n",
       "      <td>NaN</td>\n",
       "      <td>8256</td>\n",
       "      <td>LEGO Constructionary Game</td>\n",
       "    </tr>\n",
       "    <tr>\n",
       "      <td>13170069</td>\n",
       "      <td>3356496</td>\n",
       "      <td>Sprayoncrayon</td>\n",
       "      <td>3.0</td>\n",
       "      <td>Lego created a version of Pictionary, only you...</td>\n",
       "      <td>8256</td>\n",
       "      <td>LEGO Constructionary Game</td>\n",
       "    </tr>\n",
       "    <tr>\n",
       "      <td>13170070</td>\n",
       "      <td>3356497</td>\n",
       "      <td>PhoenixSong</td>\n",
       "      <td>2.5</td>\n",
       "      <td>This game is very similar to Creationary. It c...</td>\n",
       "      <td>8256</td>\n",
       "      <td>LEGO Constructionary Game</td>\n",
       "    </tr>\n",
       "    <tr>\n",
       "      <td>13170071</td>\n",
       "      <td>3356498</td>\n",
       "      <td>tsantos</td>\n",
       "      <td>2.0</td>\n",
       "      <td>This game was really bad.  Worst that I've pla...</td>\n",
       "      <td>8256</td>\n",
       "      <td>LEGO Constructionary Game</td>\n",
       "    </tr>\n",
       "    <tr>\n",
       "      <td>13170072</td>\n",
       "      <td>3356499</td>\n",
       "      <td>Mighty Florist</td>\n",
       "      <td>2.0</td>\n",
       "      <td>NaN</td>\n",
       "      <td>8256</td>\n",
       "      <td>LEGO Constructionary Game</td>\n",
       "    </tr>\n",
       "  </tbody>\n",
       "</table>\n",
       "<p>13170073 rows × 6 columns</p>\n",
       "</div>"
      ],
      "text/plain": [
       "          Unnamed: 0            user  rating  \\\n",
       "0                  0      sidehacker    10.0   \n",
       "1                  1     Varthlokkur    10.0   \n",
       "2                  2      dougthonus    10.0   \n",
       "3                  3          cypar7    10.0   \n",
       "4                  4         ssmooth    10.0   \n",
       "...              ...             ...     ...   \n",
       "13170068     3356495       pswissler     3.0   \n",
       "13170069     3356496   Sprayoncrayon     3.0   \n",
       "13170070     3356497     PhoenixSong     2.5   \n",
       "13170071     3356498         tsantos     2.0   \n",
       "13170072     3356499  Mighty Florist     2.0   \n",
       "\n",
       "                                                    comment    ID  \\\n",
       "0                                                       NaN    13   \n",
       "1                                                       NaN    13   \n",
       "2         Currently, this sits on my list as my favorite...    13   \n",
       "3         I know it says how many plays, but many, many ...    13   \n",
       "4                                                       NaN    13   \n",
       "...                                                     ...   ...   \n",
       "13170068                                                NaN  8256   \n",
       "13170069  Lego created a version of Pictionary, only you...  8256   \n",
       "13170070  This game is very similar to Creationary. It c...  8256   \n",
       "13170071  This game was really bad.  Worst that I've pla...  8256   \n",
       "13170072                                                NaN  8256   \n",
       "\n",
       "                               name  \n",
       "0                             Catan  \n",
       "1                             Catan  \n",
       "2                             Catan  \n",
       "3                             Catan  \n",
       "4                             Catan  \n",
       "...                             ...  \n",
       "13170068  LEGO Constructionary Game  \n",
       "13170069  LEGO Constructionary Game  \n",
       "13170070  LEGO Constructionary Game  \n",
       "13170071  LEGO Constructionary Game  \n",
       "13170072  LEGO Constructionary Game  \n",
       "\n",
       "[13170073 rows x 6 columns]"
      ]
     },
     "execution_count": 5,
     "metadata": {},
     "output_type": "execute_result"
    }
   ],
   "source": [
    "# Print Dataframe\n",
    "comments_df"
   ]
  },
  {
   "cell_type": "markdown",
   "metadata": {},
   "source": [
    "# 3. Refining data"
   ]
  },
  {
   "cell_type": "markdown",
   "metadata": {},
   "source": [
    "## 3.a) Drop unwanted columns\n",
    "\n",
    "As we can see, there are few unwanted columns other than 'rating' and 'comment' present in the dataframe which will be of no use while building classifier, so we can drop those columns"
   ]
  },
  {
   "cell_type": "code",
   "execution_count": 6,
   "metadata": {},
   "outputs": [],
   "source": [
    "# Drop unwanted columns\n",
    "comments_df = comments_df.drop(['Unnamed: 0', 'user', 'ID', 'name'], axis=1)"
   ]
  },
  {
   "cell_type": "code",
   "execution_count": 7,
   "metadata": {},
   "outputs": [
    {
     "data": {
      "text/html": [
       "<div>\n",
       "<style scoped>\n",
       "    .dataframe tbody tr th:only-of-type {\n",
       "        vertical-align: middle;\n",
       "    }\n",
       "\n",
       "    .dataframe tbody tr th {\n",
       "        vertical-align: top;\n",
       "    }\n",
       "\n",
       "    .dataframe thead th {\n",
       "        text-align: right;\n",
       "    }\n",
       "</style>\n",
       "<table border=\"1\" class=\"dataframe\">\n",
       "  <thead>\n",
       "    <tr style=\"text-align: right;\">\n",
       "      <th></th>\n",
       "      <th>rating</th>\n",
       "      <th>comment</th>\n",
       "    </tr>\n",
       "  </thead>\n",
       "  <tbody>\n",
       "    <tr>\n",
       "      <td>0</td>\n",
       "      <td>10.0</td>\n",
       "      <td>NaN</td>\n",
       "    </tr>\n",
       "    <tr>\n",
       "      <td>1</td>\n",
       "      <td>10.0</td>\n",
       "      <td>NaN</td>\n",
       "    </tr>\n",
       "    <tr>\n",
       "      <td>2</td>\n",
       "      <td>10.0</td>\n",
       "      <td>Currently, this sits on my list as my favorite...</td>\n",
       "    </tr>\n",
       "    <tr>\n",
       "      <td>3</td>\n",
       "      <td>10.0</td>\n",
       "      <td>I know it says how many plays, but many, many ...</td>\n",
       "    </tr>\n",
       "    <tr>\n",
       "      <td>4</td>\n",
       "      <td>10.0</td>\n",
       "      <td>NaN</td>\n",
       "    </tr>\n",
       "    <tr>\n",
       "      <td>...</td>\n",
       "      <td>...</td>\n",
       "      <td>...</td>\n",
       "    </tr>\n",
       "    <tr>\n",
       "      <td>13170068</td>\n",
       "      <td>3.0</td>\n",
       "      <td>NaN</td>\n",
       "    </tr>\n",
       "    <tr>\n",
       "      <td>13170069</td>\n",
       "      <td>3.0</td>\n",
       "      <td>Lego created a version of Pictionary, only you...</td>\n",
       "    </tr>\n",
       "    <tr>\n",
       "      <td>13170070</td>\n",
       "      <td>2.5</td>\n",
       "      <td>This game is very similar to Creationary. It c...</td>\n",
       "    </tr>\n",
       "    <tr>\n",
       "      <td>13170071</td>\n",
       "      <td>2.0</td>\n",
       "      <td>This game was really bad.  Worst that I've pla...</td>\n",
       "    </tr>\n",
       "    <tr>\n",
       "      <td>13170072</td>\n",
       "      <td>2.0</td>\n",
       "      <td>NaN</td>\n",
       "    </tr>\n",
       "  </tbody>\n",
       "</table>\n",
       "<p>13170073 rows × 2 columns</p>\n",
       "</div>"
      ],
      "text/plain": [
       "          rating                                            comment\n",
       "0           10.0                                                NaN\n",
       "1           10.0                                                NaN\n",
       "2           10.0  Currently, this sits on my list as my favorite...\n",
       "3           10.0  I know it says how many plays, but many, many ...\n",
       "4           10.0                                                NaN\n",
       "...          ...                                                ...\n",
       "13170068     3.0                                                NaN\n",
       "13170069     3.0  Lego created a version of Pictionary, only you...\n",
       "13170070     2.5  This game is very similar to Creationary. It c...\n",
       "13170071     2.0  This game was really bad.  Worst that I've pla...\n",
       "13170072     2.0                                                NaN\n",
       "\n",
       "[13170073 rows x 2 columns]"
      ]
     },
     "execution_count": 7,
     "metadata": {},
     "output_type": "execute_result"
    }
   ],
   "source": [
    "# Print Dataframe after dropping unwanted columns\n",
    "comments_df"
   ]
  },
  {
   "cell_type": "markdown",
   "metadata": {},
   "source": [
    "## 3.b) Ignore null values of 'rating' and 'review'\n",
    "\n",
    "Also, we can see that there are NaN values present in reviews which are should not be considered to build classifier.   \n",
    "So, we will redefine our dataframe by ignoring the NaN values"
   ]
  },
  {
   "cell_type": "code",
   "execution_count": 8,
   "metadata": {},
   "outputs": [],
   "source": [
    "# Ignore records having null rating and null reviews\n",
    "comments_df.dropna(inplace = True)"
   ]
  },
  {
   "cell_type": "code",
   "execution_count": 9,
   "metadata": {},
   "outputs": [
    {
     "data": {
      "text/html": [
       "<div>\n",
       "<style scoped>\n",
       "    .dataframe tbody tr th:only-of-type {\n",
       "        vertical-align: middle;\n",
       "    }\n",
       "\n",
       "    .dataframe tbody tr th {\n",
       "        vertical-align: top;\n",
       "    }\n",
       "\n",
       "    .dataframe thead th {\n",
       "        text-align: right;\n",
       "    }\n",
       "</style>\n",
       "<table border=\"1\" class=\"dataframe\">\n",
       "  <thead>\n",
       "    <tr style=\"text-align: right;\">\n",
       "      <th></th>\n",
       "      <th>rating</th>\n",
       "      <th>comment</th>\n",
       "    </tr>\n",
       "  </thead>\n",
       "  <tbody>\n",
       "    <tr>\n",
       "      <td>2</td>\n",
       "      <td>10.0</td>\n",
       "      <td>Currently, this sits on my list as my favorite...</td>\n",
       "    </tr>\n",
       "    <tr>\n",
       "      <td>3</td>\n",
       "      <td>10.0</td>\n",
       "      <td>I know it says how many plays, but many, many ...</td>\n",
       "    </tr>\n",
       "    <tr>\n",
       "      <td>7</td>\n",
       "      <td>10.0</td>\n",
       "      <td>i will never tire of this game.. Awesome</td>\n",
       "    </tr>\n",
       "    <tr>\n",
       "      <td>11</td>\n",
       "      <td>10.0</td>\n",
       "      <td>This is probably the best game I ever played. ...</td>\n",
       "    </tr>\n",
       "    <tr>\n",
       "      <td>16</td>\n",
       "      <td>10.0</td>\n",
       "      <td>Fantastic game. Got me hooked on games all ove...</td>\n",
       "    </tr>\n",
       "    <tr>\n",
       "      <td>...</td>\n",
       "      <td>...</td>\n",
       "      <td>...</td>\n",
       "    </tr>\n",
       "    <tr>\n",
       "      <td>13170066</td>\n",
       "      <td>3.0</td>\n",
       "      <td>Horrible party game.  I'm dumping this one!</td>\n",
       "    </tr>\n",
       "    <tr>\n",
       "      <td>13170067</td>\n",
       "      <td>3.0</td>\n",
       "      <td>Difficult to build anything at all with the in...</td>\n",
       "    </tr>\n",
       "    <tr>\n",
       "      <td>13170069</td>\n",
       "      <td>3.0</td>\n",
       "      <td>Lego created a version of Pictionary, only you...</td>\n",
       "    </tr>\n",
       "    <tr>\n",
       "      <td>13170070</td>\n",
       "      <td>2.5</td>\n",
       "      <td>This game is very similar to Creationary. It c...</td>\n",
       "    </tr>\n",
       "    <tr>\n",
       "      <td>13170071</td>\n",
       "      <td>2.0</td>\n",
       "      <td>This game was really bad.  Worst that I've pla...</td>\n",
       "    </tr>\n",
       "  </tbody>\n",
       "</table>\n",
       "<p>2637756 rows × 2 columns</p>\n",
       "</div>"
      ],
      "text/plain": [
       "          rating                                            comment\n",
       "2           10.0  Currently, this sits on my list as my favorite...\n",
       "3           10.0  I know it says how many plays, but many, many ...\n",
       "7           10.0           i will never tire of this game.. Awesome\n",
       "11          10.0  This is probably the best game I ever played. ...\n",
       "16          10.0  Fantastic game. Got me hooked on games all ove...\n",
       "...          ...                                                ...\n",
       "13170066     3.0        Horrible party game.  I'm dumping this one!\n",
       "13170067     3.0  Difficult to build anything at all with the in...\n",
       "13170069     3.0  Lego created a version of Pictionary, only you...\n",
       "13170070     2.5  This game is very similar to Creationary. It c...\n",
       "13170071     2.0  This game was really bad.  Worst that I've pla...\n",
       "\n",
       "[2637756 rows x 2 columns]"
      ]
     },
     "execution_count": 9,
     "metadata": {},
     "output_type": "execute_result"
    }
   ],
   "source": [
    "# Print Dataframe after ignoring null values of 'rating' and 'review'\n",
    "comments_df"
   ]
  },
  {
   "cell_type": "code",
   "execution_count": 10,
   "metadata": {},
   "outputs": [
    {
     "name": "stdout",
     "output_type": "stream",
     "text": [
      "Refined length of dataset: 2637756\n"
     ]
    }
   ],
   "source": [
    "# Check length of new dataframe after removing null value records\n",
    "refined_df_len = len(comments_df)\n",
    "print(\"Refined length of dataset:\", refined_df_len)"
   ]
  },
  {
   "cell_type": "markdown",
   "metadata": {},
   "source": [
    "_______________________________________________________________________________________________________________________________\n",
    "\n",
    "Compare Size of original Datframe vs Refined Dataframe\n",
    "_______________________________________________________________________________________________________________________________"
   ]
  },
  {
   "cell_type": "code",
   "execution_count": 11,
   "metadata": {},
   "outputs": [
    {
     "name": "stdout",
     "output_type": "stream",
     "text": [
      "Percent Reduction in data after refining: 79.97%\n"
     ]
    }
   ],
   "source": [
    "percent_reduction = 100 - ((refined_df_len / original_df_len) * 100)\n",
    "print(\"Percent Reduction in data after refining: {:.2f}%\".format(percent_reduction))"
   ]
  },
  {
   "cell_type": "markdown",
   "metadata": {},
   "source": [
    "_______________________________________________________________________________________________________________________________\n",
    "It was a very good decision to ingore records with empty values as there is massive reduction in size of the dataframe\n",
    "_______________________________________________________________________________________________________________________________"
   ]
  },
  {
   "cell_type": "markdown",
   "metadata": {},
   "source": [
    "## 3.c) Convert all words to lower case\n",
    "\n",
    "We must convert all words to lower case which may increase accuracy of classifier   \n",
    "Example:   \n",
    "Classifier may treat \"Good\" and \"good\" as two different words while computing word frequencies."
   ]
  },
  {
   "cell_type": "code",
   "execution_count": 12,
   "metadata": {},
   "outputs": [],
   "source": [
    "# Convert all text into lowercase\n",
    "comments_df['comment'] = comments_df['comment'].str.lower()"
   ]
  },
  {
   "cell_type": "code",
   "execution_count": 13,
   "metadata": {},
   "outputs": [
    {
     "data": {
      "text/html": [
       "<div>\n",
       "<style scoped>\n",
       "    .dataframe tbody tr th:only-of-type {\n",
       "        vertical-align: middle;\n",
       "    }\n",
       "\n",
       "    .dataframe tbody tr th {\n",
       "        vertical-align: top;\n",
       "    }\n",
       "\n",
       "    .dataframe thead th {\n",
       "        text-align: right;\n",
       "    }\n",
       "</style>\n",
       "<table border=\"1\" class=\"dataframe\">\n",
       "  <thead>\n",
       "    <tr style=\"text-align: right;\">\n",
       "      <th></th>\n",
       "      <th>rating</th>\n",
       "      <th>comment</th>\n",
       "    </tr>\n",
       "  </thead>\n",
       "  <tbody>\n",
       "    <tr>\n",
       "      <td>2</td>\n",
       "      <td>10.0</td>\n",
       "      <td>currently, this sits on my list as my favorite...</td>\n",
       "    </tr>\n",
       "    <tr>\n",
       "      <td>3</td>\n",
       "      <td>10.0</td>\n",
       "      <td>i know it says how many plays, but many, many ...</td>\n",
       "    </tr>\n",
       "    <tr>\n",
       "      <td>7</td>\n",
       "      <td>10.0</td>\n",
       "      <td>i will never tire of this game.. awesome</td>\n",
       "    </tr>\n",
       "    <tr>\n",
       "      <td>11</td>\n",
       "      <td>10.0</td>\n",
       "      <td>this is probably the best game i ever played. ...</td>\n",
       "    </tr>\n",
       "    <tr>\n",
       "      <td>16</td>\n",
       "      <td>10.0</td>\n",
       "      <td>fantastic game. got me hooked on games all ove...</td>\n",
       "    </tr>\n",
       "    <tr>\n",
       "      <td>...</td>\n",
       "      <td>...</td>\n",
       "      <td>...</td>\n",
       "    </tr>\n",
       "    <tr>\n",
       "      <td>13170066</td>\n",
       "      <td>3.0</td>\n",
       "      <td>horrible party game.  i'm dumping this one!</td>\n",
       "    </tr>\n",
       "    <tr>\n",
       "      <td>13170067</td>\n",
       "      <td>3.0</td>\n",
       "      <td>difficult to build anything at all with the in...</td>\n",
       "    </tr>\n",
       "    <tr>\n",
       "      <td>13170069</td>\n",
       "      <td>3.0</td>\n",
       "      <td>lego created a version of pictionary, only you...</td>\n",
       "    </tr>\n",
       "    <tr>\n",
       "      <td>13170070</td>\n",
       "      <td>2.5</td>\n",
       "      <td>this game is very similar to creationary. it c...</td>\n",
       "    </tr>\n",
       "    <tr>\n",
       "      <td>13170071</td>\n",
       "      <td>2.0</td>\n",
       "      <td>this game was really bad.  worst that i've pla...</td>\n",
       "    </tr>\n",
       "  </tbody>\n",
       "</table>\n",
       "<p>2637756 rows × 2 columns</p>\n",
       "</div>"
      ],
      "text/plain": [
       "          rating                                            comment\n",
       "2           10.0  currently, this sits on my list as my favorite...\n",
       "3           10.0  i know it says how many plays, but many, many ...\n",
       "7           10.0           i will never tire of this game.. awesome\n",
       "11          10.0  this is probably the best game i ever played. ...\n",
       "16          10.0  fantastic game. got me hooked on games all ove...\n",
       "...          ...                                                ...\n",
       "13170066     3.0        horrible party game.  i'm dumping this one!\n",
       "13170067     3.0  difficult to build anything at all with the in...\n",
       "13170069     3.0  lego created a version of pictionary, only you...\n",
       "13170070     2.5  this game is very similar to creationary. it c...\n",
       "13170071     2.0  this game was really bad.  worst that i've pla...\n",
       "\n",
       "[2637756 rows x 2 columns]"
      ]
     },
     "execution_count": 13,
     "metadata": {},
     "output_type": "execute_result"
    }
   ],
   "source": [
    "# Print Dataframe after converting all words to lower case\n",
    "comments_df"
   ]
  },
  {
   "cell_type": "markdown",
   "metadata": {},
   "source": [
    "## 3.d) Round off Rating Values\n",
    "\n",
    "Check the distinct ratings present in the dataframe"
   ]
  },
  {
   "cell_type": "code",
   "execution_count": 14,
   "metadata": {},
   "outputs": [
    {
     "name": "stdout",
     "output_type": "stream",
     "text": [
      "Distinct Ratings [10.       9.999    9.99    ...  6.4567   9.314    7.98525]\n",
      "Total count of distinct ratings: 3408\n"
     ]
    }
   ],
   "source": [
    "distinct_rating = comments_df['rating'].unique()\n",
    "print(\"Distinct Ratings\", distinct_rating)\n",
    "print(\"Total count of distinct ratings:\", len(distinct_rating))"
   ]
  },
  {
   "cell_type": "markdown",
   "metadata": {},
   "source": [
    "______________________________________________________________________________________________________________________________\n",
    "Oops... It contains 3408 distinct ratings which is a huge number for prediction result.   \n",
    "Also, we don't want continuous rating values, we need absolute rating values between (1 to 10)   \n",
    "So, it is better to round off all rating values before proceeding with the classifier\n",
    "_______________________________________________________________________________________________________________________________"
   ]
  },
  {
   "cell_type": "code",
   "execution_count": 15,
   "metadata": {},
   "outputs": [],
   "source": [
    "# Round off ratings to get ratings between [1 to 10]\n",
    "fine_rating = comments_df['rating'].round()"
   ]
  },
  {
   "cell_type": "code",
   "execution_count": 16,
   "metadata": {},
   "outputs": [
    {
     "name": "stdout",
     "output_type": "stream",
     "text": [
      "Unique rating values after refinement: [10.  9.  8.  7.  6.  5.  4.  3.  2.  1.  0.]\n"
     ]
    }
   ],
   "source": [
    "print(\"Unique rating values after refinement:\", fine_rating.unique())"
   ]
  },
  {
   "cell_type": "code",
   "execution_count": 17,
   "metadata": {},
   "outputs": [],
   "source": [
    "comments_df['rating'] = fine_rating"
   ]
  },
  {
   "cell_type": "code",
   "execution_count": 18,
   "metadata": {},
   "outputs": [
    {
     "data": {
      "text/html": [
       "<div>\n",
       "<style scoped>\n",
       "    .dataframe tbody tr th:only-of-type {\n",
       "        vertical-align: middle;\n",
       "    }\n",
       "\n",
       "    .dataframe tbody tr th {\n",
       "        vertical-align: top;\n",
       "    }\n",
       "\n",
       "    .dataframe thead th {\n",
       "        text-align: right;\n",
       "    }\n",
       "</style>\n",
       "<table border=\"1\" class=\"dataframe\">\n",
       "  <thead>\n",
       "    <tr style=\"text-align: right;\">\n",
       "      <th></th>\n",
       "      <th>rating</th>\n",
       "      <th>comment</th>\n",
       "    </tr>\n",
       "  </thead>\n",
       "  <tbody>\n",
       "    <tr>\n",
       "      <td>2</td>\n",
       "      <td>10.0</td>\n",
       "      <td>currently, this sits on my list as my favorite...</td>\n",
       "    </tr>\n",
       "    <tr>\n",
       "      <td>3</td>\n",
       "      <td>10.0</td>\n",
       "      <td>i know it says how many plays, but many, many ...</td>\n",
       "    </tr>\n",
       "    <tr>\n",
       "      <td>7</td>\n",
       "      <td>10.0</td>\n",
       "      <td>i will never tire of this game.. awesome</td>\n",
       "    </tr>\n",
       "    <tr>\n",
       "      <td>11</td>\n",
       "      <td>10.0</td>\n",
       "      <td>this is probably the best game i ever played. ...</td>\n",
       "    </tr>\n",
       "    <tr>\n",
       "      <td>16</td>\n",
       "      <td>10.0</td>\n",
       "      <td>fantastic game. got me hooked on games all ove...</td>\n",
       "    </tr>\n",
       "    <tr>\n",
       "      <td>...</td>\n",
       "      <td>...</td>\n",
       "      <td>...</td>\n",
       "    </tr>\n",
       "    <tr>\n",
       "      <td>13170066</td>\n",
       "      <td>3.0</td>\n",
       "      <td>horrible party game.  i'm dumping this one!</td>\n",
       "    </tr>\n",
       "    <tr>\n",
       "      <td>13170067</td>\n",
       "      <td>3.0</td>\n",
       "      <td>difficult to build anything at all with the in...</td>\n",
       "    </tr>\n",
       "    <tr>\n",
       "      <td>13170069</td>\n",
       "      <td>3.0</td>\n",
       "      <td>lego created a version of pictionary, only you...</td>\n",
       "    </tr>\n",
       "    <tr>\n",
       "      <td>13170070</td>\n",
       "      <td>2.0</td>\n",
       "      <td>this game is very similar to creationary. it c...</td>\n",
       "    </tr>\n",
       "    <tr>\n",
       "      <td>13170071</td>\n",
       "      <td>2.0</td>\n",
       "      <td>this game was really bad.  worst that i've pla...</td>\n",
       "    </tr>\n",
       "  </tbody>\n",
       "</table>\n",
       "<p>2637756 rows × 2 columns</p>\n",
       "</div>"
      ],
      "text/plain": [
       "          rating                                            comment\n",
       "2           10.0  currently, this sits on my list as my favorite...\n",
       "3           10.0  i know it says how many plays, but many, many ...\n",
       "7           10.0           i will never tire of this game.. awesome\n",
       "11          10.0  this is probably the best game i ever played. ...\n",
       "16          10.0  fantastic game. got me hooked on games all ove...\n",
       "...          ...                                                ...\n",
       "13170066     3.0        horrible party game.  i'm dumping this one!\n",
       "13170067     3.0  difficult to build anything at all with the in...\n",
       "13170069     3.0  lego created a version of pictionary, only you...\n",
       "13170070     2.0  this game is very similar to creationary. it c...\n",
       "13170071     2.0  this game was really bad.  worst that i've pla...\n",
       "\n",
       "[2637756 rows x 2 columns]"
      ]
     },
     "execution_count": 18,
     "metadata": {},
     "output_type": "execute_result"
    }
   ],
   "source": [
    "# Print dataframe after rounding off all ratings between (1 to 10)\n",
    "comments_df"
   ]
  },
  {
   "cell_type": "markdown",
   "metadata": {},
   "source": [
    "## 3.e) Check count of each rating value"
   ]
  },
  {
   "cell_type": "code",
   "execution_count": 19,
   "metadata": {},
   "outputs": [
    {
     "name": "stdout",
     "output_type": "stream",
     "text": [
      "Count of each rating value:\n",
      " 10.0    153530\n",
      "9.0     239410\n",
      "8.0     657581\n",
      "7.0     574586\n",
      "6.0     526481\n",
      "5.0     217766\n",
      "4.0     136565\n",
      "3.0      70974\n",
      "2.0      40766\n",
      "1.0      20086\n",
      "0.0         11\n",
      "Name: rating, dtype: int64\n"
     ]
    }
   ],
   "source": [
    "ratings_counts = comments_df['rating'].value_counts().sort_index(ascending=False)\n",
    "print(\"Count of each rating value:\\n\", ratings_counts)"
   ]
  },
  {
   "cell_type": "markdown",
   "metadata": {},
   "source": [
    "_______________________________________________________________________________________________________________________________\n",
    "Replace rating value '0.0' with rating value '1.0' as the count of rating value '0.0' is very low as compared to other.   \n",
    "Also, previously we decided to keep the rating values only between (1 to 10)\n",
    "_______________________________________________________________________________________________________________________________"
   ]
  },
  {
   "cell_type": "code",
   "execution_count": 20,
   "metadata": {},
   "outputs": [],
   "source": [
    "# Replace rating value '0.0' with rating value '1.0'\n",
    "comments_df['rating'] = comments_df['rating'].replace([0.0], 1.0)"
   ]
  },
  {
   "cell_type": "markdown",
   "metadata": {},
   "source": [
    "_______________________________________________________________________________________________________________________________\n",
    "Print count of each rating after merging \n",
    "_______________________________________________________________________________________________________________________________"
   ]
  },
  {
   "cell_type": "code",
   "execution_count": 21,
   "metadata": {},
   "outputs": [
    {
     "name": "stdout",
     "output_type": "stream",
     "text": [
      "Count of each rating after merging:\n",
      " 10.0    153530\n",
      "9.0     239410\n",
      "8.0     657581\n",
      "7.0     574586\n",
      "6.0     526481\n",
      "5.0     217766\n",
      "4.0     136565\n",
      "3.0      70974\n",
      "2.0      40766\n",
      "1.0      20097\n",
      "Name: rating, dtype: int64\n"
     ]
    }
   ],
   "source": [
    "ratings_counts = comments_df['rating'].value_counts().sort_index(ascending=False)\n",
    "print(\"Count of each rating after merging:\\n\", ratings_counts)"
   ]
  },
  {
   "cell_type": "markdown",
   "metadata": {},
   "source": [
    "_______________________________________________________________________________________________________________________________\n",
    "Draw Graph to better visualize count of each rating\n",
    "_______________________________________________________________________________________________________________________________"
   ]
  },
  {
   "cell_type": "code",
   "execution_count": 22,
   "metadata": {},
   "outputs": [
    {
     "data": {
      "text/plain": [
       "[(10097, 707581)]"
      ]
     },
     "execution_count": 22,
     "metadata": {},
     "output_type": "execute_result"
    },
    {
     "data": {
      "image/png": "[encoded data removed]",
      "text/plain": [
       "<Figure size 432x288 with 1 Axes>"
      ]
     },
     "metadata": {
      "needs_background": "light"
     },
     "output_type": "display_data"
    }
   ],
   "source": [
    "ratings_count_list = sorted(ratings_counts.items(), key=operator.itemgetter(1), reverse=False)\n",
    "min_count = ratings_count_list[0][1]\n",
    "\n",
    "ratings_count_list = sorted(ratings_counts.items(), key=operator.itemgetter(1), reverse=True)\n",
    "max_count = ratings_count_list[0][1]\n",
    "\n",
    "ratings_count_list = sorted(ratings_counts.items(), key=operator.itemgetter(0), reverse=False)\n",
    "\n",
    "ratingVal = [item[0] for item in ratings_count_list]\n",
    "countVal = [item[1] for item in ratings_count_list]\n",
    "\n",
    "df = pd.DataFrame({'Rating Count': countVal}, index=ratingVal)\n",
    "\n",
    "ax = df.plot.bar(rot=0)\n",
    "ax.set(ylim=[min_count-10000, max_count+50000])"
   ]
  },
  {
   "cell_type": "markdown",
   "metadata": {},
   "source": [
    "## 3.f) Convert all Rating Values to integer\n",
    "\n",
    "Convert all 'rating' values to integer values."
   ]
  },
  {
   "cell_type": "code",
   "execution_count": 23,
   "metadata": {},
   "outputs": [],
   "source": [
    "comments_df['rating'] = comments_df['rating'].astype(int)"
   ]
  },
  {
   "cell_type": "code",
   "execution_count": 24,
   "metadata": {},
   "outputs": [
    {
     "data": {
      "text/html": [
       "<div>\n",
       "<style scoped>\n",
       "    .dataframe tbody tr th:only-of-type {\n",
       "        vertical-align: middle;\n",
       "    }\n",
       "\n",
       "    .dataframe tbody tr th {\n",
       "        vertical-align: top;\n",
       "    }\n",
       "\n",
       "    .dataframe thead th {\n",
       "        text-align: right;\n",
       "    }\n",
       "</style>\n",
       "<table border=\"1\" class=\"dataframe\">\n",
       "  <thead>\n",
       "    <tr style=\"text-align: right;\">\n",
       "      <th></th>\n",
       "      <th>rating</th>\n",
       "      <th>comment</th>\n",
       "    </tr>\n",
       "  </thead>\n",
       "  <tbody>\n",
       "    <tr>\n",
       "      <td>2</td>\n",
       "      <td>10</td>\n",
       "      <td>currently, this sits on my list as my favorite...</td>\n",
       "    </tr>\n",
       "    <tr>\n",
       "      <td>3</td>\n",
       "      <td>10</td>\n",
       "      <td>i know it says how many plays, but many, many ...</td>\n",
       "    </tr>\n",
       "    <tr>\n",
       "      <td>7</td>\n",
       "      <td>10</td>\n",
       "      <td>i will never tire of this game.. awesome</td>\n",
       "    </tr>\n",
       "    <tr>\n",
       "      <td>11</td>\n",
       "      <td>10</td>\n",
       "      <td>this is probably the best game i ever played. ...</td>\n",
       "    </tr>\n",
       "    <tr>\n",
       "      <td>16</td>\n",
       "      <td>10</td>\n",
       "      <td>fantastic game. got me hooked on games all ove...</td>\n",
       "    </tr>\n",
       "    <tr>\n",
       "      <td>...</td>\n",
       "      <td>...</td>\n",
       "      <td>...</td>\n",
       "    </tr>\n",
       "    <tr>\n",
       "      <td>13170066</td>\n",
       "      <td>3</td>\n",
       "      <td>horrible party game.  i'm dumping this one!</td>\n",
       "    </tr>\n",
       "    <tr>\n",
       "      <td>13170067</td>\n",
       "      <td>3</td>\n",
       "      <td>difficult to build anything at all with the in...</td>\n",
       "    </tr>\n",
       "    <tr>\n",
       "      <td>13170069</td>\n",
       "      <td>3</td>\n",
       "      <td>lego created a version of pictionary, only you...</td>\n",
       "    </tr>\n",
       "    <tr>\n",
       "      <td>13170070</td>\n",
       "      <td>2</td>\n",
       "      <td>this game is very similar to creationary. it c...</td>\n",
       "    </tr>\n",
       "    <tr>\n",
       "      <td>13170071</td>\n",
       "      <td>2</td>\n",
       "      <td>this game was really bad.  worst that i've pla...</td>\n",
       "    </tr>\n",
       "  </tbody>\n",
       "</table>\n",
       "<p>2637756 rows × 2 columns</p>\n",
       "</div>"
      ],
      "text/plain": [
       "          rating                                            comment\n",
       "2             10  currently, this sits on my list as my favorite...\n",
       "3             10  i know it says how many plays, but many, many ...\n",
       "7             10           i will never tire of this game.. awesome\n",
       "11            10  this is probably the best game i ever played. ...\n",
       "16            10  fantastic game. got me hooked on games all ove...\n",
       "...          ...                                                ...\n",
       "13170066       3        horrible party game.  i'm dumping this one!\n",
       "13170067       3  difficult to build anything at all with the in...\n",
       "13170069       3  lego created a version of pictionary, only you...\n",
       "13170070       2  this game is very similar to creationary. it c...\n",
       "13170071       2  this game was really bad.  worst that i've pla...\n",
       "\n",
       "[2637756 rows x 2 columns]"
      ]
     },
     "execution_count": 24,
     "metadata": {},
     "output_type": "execute_result"
    }
   ],
   "source": [
    "# Print dataframe after converting rating values to integer\n",
    "comments_df"
   ]
  },
  {
   "cell_type": "markdown",
   "metadata": {},
   "source": [
    "# 4. Using small part of data for building classifier\n",
    "\n",
    "As we can see, even after refining the data we are getting more than 2.6M records.   \n",
    "Building a classifier using such huge amount of data on a machine with limited resources may end up in:\n",
    "1. Lack of processing speed\n",
    "2. Memory error\n",
    "\n",
    "Even if there will be sufficient resources and even if we use libraries then also:\n",
    "1. In Naive Bayes, Word Frequency and Probability Computing time will be very high.\n",
    "2. In SVM, it will take a huge time for computation of hyperplane.\n",
    "3. In SVM, as the value of C will increase, computation time will increase.\n",
    "4. In Random Forest Classifier, computing time & memory usage will be very high with increasing number of trees in the forest.   \n",
    "\n",
    "5. If KNN is considered, then Distance Computing time will be very high.\n",
    "\n",
    "Conclusion:\n",
    "1. Use largest possible dataset for feasible computation for all algorithms we will try to implement.   \n",
    "2. Make sure we take data containing all distinct 'rating' values, otherwise it is possible that you may miss all or very large amount of records for a particular rating.   \n",
    "3. Maintain Ratio of each distinct 'rating' value to maintain consistency."
   ]
  },
  {
   "cell_type": "code",
   "execution_count": 25,
   "metadata": {},
   "outputs": [],
   "source": [
    "# Take smaller dataset for computation (80% size of original dataset)\n",
    "# Maintain count ratio for each rating\n",
    "small_df = comments_df.groupby('rating').apply(lambda x: x.sample(frac=0.8))"
   ]
  },
  {
   "cell_type": "code",
   "execution_count": 26,
   "metadata": {},
   "outputs": [
    {
     "name": "stdout",
     "output_type": "stream",
     "text": [
      "2110206\n"
     ]
    }
   ],
   "source": [
    "original_len_small_df = len(small_df)\n",
    "print(original_len_small_df)"
   ]
  },
  {
   "cell_type": "markdown",
   "metadata": {},
   "source": [
    "# 5. Refining small dataframe\n",
    "\n",
    "1. Remove non-ASCII characters\n",
    "2. Remove non-English characters\n",
    "3. Remove special characters\n",
    "4. Remove stop words"
   ]
  },
  {
   "cell_type": "code",
   "execution_count": 27,
   "metadata": {},
   "outputs": [],
   "source": [
    "# Function to remove non-ASCII\n",
    "def remove_non_ascii(text):\n",
    "    return ''.join(i for i in text if ord(i)<128)\n",
    "\n",
    "# Remove non-ASCII characters\n",
    "small_df['comment'] = small_df['comment'].apply(remove_non_ascii)\n",
    "\n",
    "# Remove non-English characters\n",
    "small_df['comment'] = small_df['comment'].str.strip()         \n",
    "small_df['comment'] = small_df['comment'].replace(r\"[^a-zA-Z\\d\\_]+\", \"\")\n",
    "\n",
    "# Remove special characters\n",
    "small_df['comment'] = small_df['comment'].replace([\";\",\":\",\"=\",\"\\+\",\"<\", \">\", \"\\?\", \"!\", \"\\\\\\\\\", \"@\", \"#\", \"$\", \"\\*\", \"%\", \",\", \"\\.\", \"\\(\", \"\\)\", \"\\[\", \"\\]\", \"\\{\", \"\\}\", \"\\\"\", \"/br\"], \"\", regex = True)\n",
    "small_df['comment'] = small_df['comment'].replace([\"' \", \" '\"], \" \", regex = True)"
   ]
  },
  {
   "cell_type": "markdown",
   "metadata": {},
   "source": [
    "______________________________________________________________________________________________________________________________\n",
    "After refining this new dataframe, few 'review' values may go blank.   \n",
    "Remove those blank rows from this small dataframe.\n",
    "______________________________________________________________________________________________________________________________"
   ]
  },
  {
   "cell_type": "code",
   "execution_count": 28,
   "metadata": {},
   "outputs": [],
   "source": [
    "# Remove blank 'reviews' introduced after removing refinement of small dataframe\n",
    "small_df = small_df[small_df['comment'] != '']"
   ]
  },
  {
   "cell_type": "code",
   "execution_count": 29,
   "metadata": {},
   "outputs": [
    {
     "name": "stdout",
     "output_type": "stream",
     "text": [
      "2098782\n"
     ]
    }
   ],
   "source": [
    "len_after_refining_small_df = len(small_df)\n",
    "print(len_after_refining_small_df)"
   ]
  },
  {
   "cell_type": "markdown",
   "metadata": {},
   "source": [
    "______________________________________________________________________________________________________________________________\n",
    "Print refined small-dataframe\n",
    "______________________________________________________________________________________________________________________________"
   ]
  },
  {
   "cell_type": "code",
   "execution_count": 30,
   "metadata": {},
   "outputs": [
    {
     "data": {
      "text/html": [
       "<div>\n",
       "<style scoped>\n",
       "    .dataframe tbody tr th:only-of-type {\n",
       "        vertical-align: middle;\n",
       "    }\n",
       "\n",
       "    .dataframe tbody tr th {\n",
       "        vertical-align: top;\n",
       "    }\n",
       "\n",
       "    .dataframe thead th {\n",
       "        text-align: right;\n",
       "    }\n",
       "</style>\n",
       "<table border=\"1\" class=\"dataframe\">\n",
       "  <thead>\n",
       "    <tr style=\"text-align: right;\">\n",
       "      <th></th>\n",
       "      <th></th>\n",
       "      <th>rating</th>\n",
       "      <th>comment</th>\n",
       "    </tr>\n",
       "    <tr>\n",
       "      <th>rating</th>\n",
       "      <th></th>\n",
       "      <th></th>\n",
       "      <th></th>\n",
       "    </tr>\n",
       "  </thead>\n",
       "  <tbody>\n",
       "    <tr>\n",
       "      <td rowspan=\"5\" valign=\"top\">1</td>\n",
       "      <td>11234428</td>\n",
       "      <td>1</td>\n",
       "      <td>no strategy whatsoever</td>\n",
       "    </tr>\n",
       "    <tr>\n",
       "      <td>6113301</td>\n",
       "      <td>1</td>\n",
       "      <td>no never again  in real life i really don't li...</td>\n",
       "    </tr>\n",
       "    <tr>\n",
       "      <td>5071198</td>\n",
       "      <td>1</td>\n",
       "      <td>un verdadero coazo de reglas seguro que al fin...</td>\n",
       "    </tr>\n",
       "    <tr>\n",
       "      <td>12020839</td>\n",
       "      <td>1</td>\n",
       "      <td>without doubt the worst gaming experience i ha...</td>\n",
       "    </tr>\n",
       "    <tr>\n",
       "      <td>7930903</td>\n",
       "      <td>1</td>\n",
       "      <td>i've met better logistics games just not my genre</td>\n",
       "    </tr>\n",
       "    <tr>\n",
       "      <td>...</td>\n",
       "      <td>...</td>\n",
       "      <td>...</td>\n",
       "      <td>...</td>\n",
       "    </tr>\n",
       "    <tr>\n",
       "      <td rowspan=\"5\" valign=\"top\">10</td>\n",
       "      <td>11288958</td>\n",
       "      <td>10</td>\n",
       "      <td>simply the best solo wargame i ever played and...</td>\n",
       "    </tr>\n",
       "    <tr>\n",
       "      <td>6064910</td>\n",
       "      <td>10</td>\n",
       "      <td>i hate dominion but apparently if you slap a t...</td>\n",
       "    </tr>\n",
       "    <tr>\n",
       "      <td>11405432</td>\n",
       "      <td>10</td>\n",
       "      <td>mean silly random - yet it's incredible fun in...</td>\n",
       "    </tr>\n",
       "    <tr>\n",
       "      <td>5709664</td>\n",
       "      <td>10</td>\n",
       "      <td>i've wanted a game like this for a long time b...</td>\n",
       "    </tr>\n",
       "    <tr>\n",
       "      <td>253044</td>\n",
       "      <td>10</td>\n",
       "      <td>just a great game  even if i lose i still enjo...</td>\n",
       "    </tr>\n",
       "  </tbody>\n",
       "</table>\n",
       "<p>2098782 rows × 2 columns</p>\n",
       "</div>"
      ],
      "text/plain": [
       "                 rating                                            comment\n",
       "rating                                                                    \n",
       "1      11234428       1                             no strategy whatsoever\n",
       "       6113301        1  no never again  in real life i really don't li...\n",
       "       5071198        1  un verdadero coazo de reglas seguro que al fin...\n",
       "       12020839       1  without doubt the worst gaming experience i ha...\n",
       "       7930903        1  i've met better logistics games just not my genre\n",
       "...                 ...                                                ...\n",
       "10     11288958      10  simply the best solo wargame i ever played and...\n",
       "       6064910       10  i hate dominion but apparently if you slap a t...\n",
       "       11405432      10  mean silly random - yet it's incredible fun in...\n",
       "       5709664       10  i've wanted a game like this for a long time b...\n",
       "       253044        10  just a great game  even if i lose i still enjo...\n",
       "\n",
       "[2098782 rows x 2 columns]"
      ]
     },
     "execution_count": 30,
     "metadata": {},
     "output_type": "execute_result"
    }
   ],
   "source": [
    "small_df"
   ]
  },
  {
   "cell_type": "markdown",
   "metadata": {},
   "source": [
    "# 6. Dividing dataset into train, dev, and test\n",
    "\n",
    "Train - 70%   \n",
    "Dev - 15%   \n",
    "Test - 15%"
   ]
  },
  {
   "cell_type": "code",
   "execution_count": 31,
   "metadata": {},
   "outputs": [],
   "source": [
    "# Divide small_df into train, dev, and test\n",
    "train, dev, test = np.split(small_df.sample(frac=1), [int(.7*len(small_df)), int(.85*len(small_df))])"
   ]
  },
  {
   "cell_type": "markdown",
   "metadata": {},
   "source": [
    "# 7. Create X and y for train, dev, and test\n",
    "\n",
    "References: \n",
    "https://scikit-learn.org/stable/modules/generated/sklearn.feature_extraction.text.TfidfVectorizer.html   \n",
    "https://stackabuse.com/text-classification-with-python-and-scikit-learn/\n",
    "\n",
    "* To build classifiers (to train and predict):   \n",
    "We will need X and y for each dataset   \n",
    "   \n",
    "   \n",
    "* The term frequency is calculated as:   \n",
    "Term frequency = (Number of Occurrences of a word)/(Total words in the records)   \n",
    "   \n",
    "   \n",
    "* And the Inverse Document Frequency is calculated as:   \n",
    "IDF(word) = Log((Total number of records)/(Number of records containing the word))\n",
    "\n",
    "The TFIDF value for a word in a particular record is higher if the frequency of occurrence of that word is higher in that specific record but lower in all the other records."
   ]
  },
  {
   "cell_type": "code",
   "execution_count": 32,
   "metadata": {},
   "outputs": [],
   "source": [
    "# min_df: When building the vocabulary ignore terms that have a document frequency strictly lower than the given threshold\n",
    "# In our case we will set it to 0.002 to ignore vocabulary having document frequency lower than 0.2%\n",
    "tfidfconverter = TfidfVectorizer(min_df=0.002)\n",
    "\n",
    "# For train data - use fit_transform\n",
    "X_train = tfidfconverter.fit_transform(train['comment']).toarray()\n",
    "\n",
    "# For dev and test - use transform\n",
    "X_dev_arr = tfidfconverter.transform(dev['comment']).toarray()\n",
    "X_test_arr = tfidfconverter.transform(test['comment']).toarray()\n",
    "X_dev = tfidfconverter.transform(dev['comment'])\n",
    "X_test = tfidfconverter.transform(test['comment'])\n",
    "\n",
    "# Put 'rating' column of each dataframe into y\n",
    "y_train = np.asarray(train['rating'])\n",
    "y_dev = np.asarray(dev['rating'])\n",
    "y_test = np.asarray(test['rating'])"
   ]
  },
  {
   "cell_type": "markdown",
   "metadata": {},
   "source": [
    "# 8. Building multiple classifiers\n",
    "\n",
    "We will build and compare multiple classifiers which may be useful for text classification:\n",
    "1. Naive Bayes Classifier\n",
    "3. SVM (Support Vector Machine) Classifier\n",
    "4. Random Forest Classifier\n",
    "5. k-Nearest Neighbour Classifier"
   ]
  },
  {
   "cell_type": "code",
   "execution_count": 33,
   "metadata": {},
   "outputs": [],
   "source": [
    "# Use following dictionaries to store results of all classifiers\n",
    "mse_dict = dict()\n",
    "accuracy_dict = dict()\n",
    "classifier_dict = dict()"
   ]
  },
  {
   "cell_type": "markdown",
   "metadata": {},
   "source": [
    "## 8.1 Naive Bayes Classifier\n",
    "  \n",
    "References:   \n",
    "* https://www.reddit.com/r/MachineLearning/comments/2uhhbh/difference_between_binomial_multinomial_and/co8xxls/\n",
    "* https://scikit-learn.org/stable/modules/naive_bayes.html   \n",
    "   \n",
    "Naive Bayes Classifier is one of the successful method for text classification.   \n",
    "We have following Naive Bayes Classifiers:   \n",
    "\n",
    "* Bernoulli Naive Bayes:    \n",
    "The binomial model is useful if your feature vectors are binary (i.e., 0s and 1s). One application would be text classification with a bag of words model where the 0s 1s are \"word occurs in the document\" and \"word does not occur in the document\"\n",
    "   \n",
    "   \n",
    "* Multinomial Naive Bayes:   \n",
    "The multinomial naive Bayes model is typically used for discrete counts. E.g., if we have a text classification problem, we can take the idea of bernoulli trials one step further and instead of \"word occurs in the document\" we have \"count how often word occurs in the document\", you can think of it as \"number of times outcome number x_i is observed over the n trials\"\n",
    "   \n",
    "   \n",
    "* Gaussian Naive Bayes:   \n",
    "Here, we assume that the features follow a normal distribution. Instead of discrete counts, we have continuous features (e.g., the popular Iris dataset where the features are sepal width, petal width, sepal length, petal length).\n",
    "   \n",
    "Looking at the above description, we can conclude that only Multinomial Naive Bayes is useful in our case.\n",
    "But just for the confirmation, we will also try Gaussian Naive Bayes."
   ]
  },
  {
   "cell_type": "markdown",
   "metadata": {},
   "source": [
    "### 8.1 a) Gaussian Naive Bayes"
   ]
  },
  {
   "cell_type": "code",
   "execution_count": 34,
   "metadata": {},
   "outputs": [
    {
     "name": "stdout",
     "output_type": "stream",
     "text": [
      "Using Gaussian Naive Bayes:\n",
      "Mean Squared Error: 12.583434185574477\n",
      "Accuracy: 14.701239132575433\n",
      "runtime: 446.3000693321228 sec\n"
     ]
    }
   ],
   "source": [
    "start_time = time.time()\n",
    "\n",
    "# Train and Predict the data using Guassian Naive Bayes\n",
    "gaussianNB = GaussianNB()\n",
    "gaussianNB.fit(X_train, y_train)\n",
    "classifier_dict[\"Gaussian Naive Bayes\"] = gaussianNB;\n",
    "y_pred_gnb_dev = gaussianNB.predict(X_dev_arr)\n",
    "\n",
    "# Calculate the Mean Squared Error and Accuracy\n",
    "mse_gnb_dev = mean_squared_error(y_dev, y_pred_gnb_dev)\n",
    "accuracy_gnb_dev = accuracy_score(y_dev, y_pred_gnb_dev)*100\n",
    "\n",
    "# Print the Mean Squared Error and Accuracy\n",
    "print(\"Using Gaussian Naive Bayes:\")\n",
    "print(\"Mean Squared Error:\", mse_gnb_dev)\n",
    "print(\"Accuracy:\", accuracy_gnb_dev)\n",
    "\n",
    "# Store the Mean Squared Error and Accuracy in dictionaries\n",
    "mse_dict[\"Gaussian Naive Bayes\"] = mse_gnb_dev;\n",
    "accuracy_dict[\"Gaussian Naive Bayes\"] = accuracy_gnb_dev;\n",
    "\n",
    "end_time = time.time()\n",
    "print(\"runtime: %s sec\" % (end_time - start_time))"
   ]
  },
  {
   "cell_type": "markdown",
   "metadata": {},
   "source": [
    "### 8.1 b) Multinomial Naive Bayes"
   ]
  },
  {
   "cell_type": "code",
   "execution_count": 35,
   "metadata": {},
   "outputs": [
    {
     "name": "stdout",
     "output_type": "stream",
     "text": [
      "Using Multinomial Naive Bayes:\n",
      "Mean Squared Error: 2.9227900653395467\n",
      "Accuracy: 31.144124999602944\n",
      "runtime: 108.11284971237183 sec\n"
     ]
    }
   ],
   "source": [
    "start_time = time.time()\n",
    "\n",
    "# Train and Predict the data using Multinomial Naive Bayes\n",
    "multinomialNB = MultinomialNB(alpha=1)\n",
    "multinomialNB.fit(X_train, y_train)\n",
    "classifier_dict[\"Multinomial Naive Bayes\"] = multinomialNB;\n",
    "y_pred_mnb_dev = multinomialNB.predict(X_dev)\n",
    "\n",
    "# Calculate the Mean Squared Error and Accuracy\n",
    "mse_mnb_dev = mean_squared_error(y_dev, y_pred_mnb_dev)\n",
    "accuracy_mnb_dev = accuracy_score(y_dev, y_pred_mnb_dev)*100\n",
    "\n",
    "# Print the Mean Squared Error and Accuracy\n",
    "print(\"Using Multinomial Naive Bayes:\")\n",
    "print(\"Mean Squared Error:\", mse_mnb_dev)\n",
    "print(\"Accuracy:\", accuracy_mnb_dev)\n",
    "\n",
    "# Store the Mean Squared Error and Accuracy in dictionaries\n",
    "mse_dict[\"Multinomial Naive Bayes\"] = mse_mnb_dev;\n",
    "accuracy_dict[\"Multinomial Naive Bayes\"] = accuracy_mnb_dev;\n",
    "\n",
    "end_time = time.time()\n",
    "print(\"runtime: %s sec\" % (end_time - start_time))"
   ]
  },
  {
   "cell_type": "markdown",
   "metadata": {},
   "source": [
    "_______________________________________________________________________________________________________________________________\n",
    "Looking at the results, we can confirm - for text classification, Multinomial Naive Bayes is better than Gaussian Naive Bayes.\n",
    "_______________________________________________________________________________________________________________________________"
   ]
  },
  {
   "cell_type": "markdown",
   "metadata": {},
   "source": [
    "## 8.2 SVM (Support Vector Machine) Classifier\n",
    "\n",
    "References:   \n",
    "* https://monkeylearn.com/text-classification-support-vector-machines-svm/   \n",
    "* https://scikit-learn.org/stable/modules/svm.html   \n",
    "* https://www.datacamp.com/community/tutorials/svm-classification-scikit-learn-python\n",
    "   \n",
    "   \n",
    "There are many different algorithms we can choose from when doing text classification with machine learning. One of those is Support Vector Machines (or SVM).   \n",
    "   \n",
    "   \n",
    "Support vector machines is an algorithm that determines the best decision boundary between vectors that belong to a given group (or category) and vectors that do not belong to it. That’s it. It can be applied to any kind of vectors which encode any kind of data. This means that in order to leverage the power of svm text classification, texts have to be transformed into vectors.   \n",
    "\n",
    "As we have already transformed our texts into vectors, we can directly start training and predicting.   \n",
    "   \n",
    "   \n",
    "According to the documentation of 'scikit-learn':   \n",
    "For large datasets consider using sklearn.svm.LinearSVC and not sklearn.svm.SVC   \n",
    "So, we will go with sklearn.svm.LinearSVC   \n",
    "\n",
    "Regularization:   \n",
    "Regularization parameter in python's Scikit-learn C parameter used to maintain regularization. Here C is the penalty parameter, which represents misclassification or error term. The misclassification or error term tells the SVM optimization how much error is bearable. This is how you can control the trade-off between decision boundary and misclassification term. A smaller value of C creates a small-margin hyperplane and a larger value of C creates a larger-margin hyperplane.   \n",
    "   \n",
    "   \n",
    "Let's try different values of C (1, 100, 1000)"
   ]
  },
  {
   "cell_type": "markdown",
   "metadata": {},
   "source": [
    "### 8.2 a) SVM (C=1)"
   ]
  },
  {
   "cell_type": "code",
   "execution_count": 36,
   "metadata": {},
   "outputs": [
    {
     "name": "stdout",
     "output_type": "stream",
     "text": [
      "Using Linear SVC (C=1):\n",
      "Mean Squared Error: 2.7691833668448655\n",
      "Accuracy: 32.42042202295302\n",
      "runtime: 293.71144700050354 sec\n"
     ]
    }
   ],
   "source": [
    "start_time = time.time()\n",
    "\n",
    "# Train and Predict the data using Linear SVM (C=1)\n",
    "linearSVC1 = LinearSVC(C=1, dual=False)\n",
    "linearSVC1.fit(X_train, y_train)\n",
    "classifier_dict[\"Linear SVC (C=1)\"] = linearSVC1;\n",
    "y_pred_lsvc = linearSVC1.predict(X_dev)\n",
    "\n",
    "# Calculate the Mean Squared Error and Accuracy\n",
    "mse_lsvc1_dev = mean_squared_error(y_dev, y_pred_lsvc)\n",
    "accuracy_lsvc1_dev = accuracy_score(y_dev, y_pred_lsvc)*100\n",
    "\n",
    "# Print the Mean Squared Error and Accuracy\n",
    "print(\"Using Linear SVC (C=1):\")\n",
    "print('Mean Squared Error:', mse_lsvc1_dev)\n",
    "print('Accuracy:', accuracy_lsvc1_dev)\n",
    "\n",
    "# Store the Mean Squared Error and Accuracy in dictionaries\n",
    "mse_dict[\"Linear SVC (C=1)\"] = mse_lsvc1_dev;\n",
    "accuracy_dict[\"Linear SVC (C=1)\"] = accuracy_lsvc1_dev;\n",
    "\n",
    "end_time = time.time()\n",
    "print(\"runtime: %s sec\" % (end_time - start_time))"
   ]
  },
  {
   "cell_type": "markdown",
   "metadata": {},
   "source": [
    "### 8.2 b) SVM (C=100)"
   ]
  },
  {
   "cell_type": "code",
   "execution_count": 37,
   "metadata": {},
   "outputs": [
    {
     "name": "stdout",
     "output_type": "stream",
     "text": [
      "Using Linear SVC (C=100):\n",
      "Mean Squared Error: 2.7688784277850305\n",
      "Accuracy: 32.42868078915688\n",
      "runtime: 308.7099573612213 sec\n"
     ]
    }
   ],
   "source": [
    "start_time = time.time()\n",
    "\n",
    "# Train and Predict the data using Linear SVM (C=100)\n",
    "linearSVC100 = LinearSVC(C=100, dual=False)\n",
    "linearSVC100.fit(X_train, y_train)\n",
    "classifier_dict[\"Linear SVC (C=100)\"] = linearSVC100;\n",
    "y_pred_lsvc = linearSVC100.predict(X_dev)\n",
    "\n",
    "# Calculate the Mean Squared Error and Accuracy\n",
    "mse_lsvc100_dev = mean_squared_error(y_dev, y_pred_lsvc)\n",
    "accuracy_lsvc100_dev = accuracy_score(y_dev, y_pred_lsvc)*100\n",
    "\n",
    "# Print the Mean Squared Error and Accuracy\n",
    "print(\"Using Linear SVC (C=100):\")\n",
    "print('Mean Squared Error:', mse_lsvc100_dev)\n",
    "print('Accuracy:', accuracy_lsvc100_dev)\n",
    "\n",
    "# Store the Mean Squared Error and Accuracy in dictionaries\n",
    "mse_dict[\"Linear SVC (C=100)\"] = mse_lsvc100_dev;\n",
    "accuracy_dict[\"Linear SVC (C=100)\"] = accuracy_lsvc100_dev;\n",
    "\n",
    "end_time = time.time()\n",
    "print(\"runtime: %s sec\" % (end_time - start_time))"
   ]
  },
  {
   "cell_type": "markdown",
   "metadata": {},
   "source": [
    "### 8.2 c) SVM (C=1000)"
   ]
  },
  {
   "cell_type": "code",
   "execution_count": 38,
   "metadata": {},
   "outputs": [
    {
     "name": "stdout",
     "output_type": "stream",
     "text": [
      "Using Linear SVC (C=1000):\n",
      "Mean Squared Error: 2.7689927799324687\n",
      "Accuracy: 32.42772785459489\n",
      "runtime: 305.33183431625366 sec\n"
     ]
    }
   ],
   "source": [
    "start_time = time.time()\n",
    "\n",
    "# Train and Predict the data using Linear SVM (C=1000)\n",
    "linearSVC1000 = LinearSVC(C=1000, dual=False)\n",
    "linearSVC1000.fit(X_train, y_train)\n",
    "classifier_dict[\"Linear SVC (C=1000)\"] = linearSVC1000;\n",
    "y_pred_lsvc = linearSVC1000.predict(X_dev)\n",
    "\n",
    "# Calculate the Mean Squared Error and Accuracy\n",
    "mse_lsvc1000_dev = mean_squared_error(y_dev, y_pred_lsvc)\n",
    "accuracy_lsvc1000_dev = accuracy_score(y_dev, y_pred_lsvc)*100\n",
    "\n",
    "# Print the Mean Squared Error and Accuracy\n",
    "print(\"Using Linear SVC (C=1000):\")\n",
    "print('Mean Squared Error:', mse_lsvc1000_dev)\n",
    "print('Accuracy:', accuracy_lsvc1000_dev)\n",
    "\n",
    "# Store the Mean Squared Error and Accuracy in dictionaries\n",
    "mse_dict[\"Linear SVC (C=1000)\"] = mse_lsvc1000_dev;\n",
    "accuracy_dict[\"Linear SVC (C=1000)\"] = accuracy_lsvc1000_dev;\n",
    "\n",
    "end_time = time.time()\n",
    "print(\"runtime: %s sec\" % (end_time - start_time))"
   ]
  },
  {
   "cell_type": "markdown",
   "metadata": {},
   "source": [
    "## 8.3 Random Forest Classifier\n",
    "\n",
    "References:\n",
    "* https://scikit-learn.org/stable/auto_examples/classification/plot_classifier_comparison.html   \n",
    "* https://scikit-learn.org/stable/modules/generated/sklearn.ensemble.RandomForestClassifier.html#sklearn.ensemble.RandomForestClassifier   \n",
    "* https://en.wikipedia.org/wiki/Random_forest   \n",
    "   \n",
    "   \n",
    "A random forest is a meta estimator that fits a number of decision tree classifiers on various sub-samples of the dataset and uses averaging to improve the predictive accuracy and control over-fitting.\n",
    "\n",
    "In other words, Random forests or random decision forests are an ensemble learning method for classification, regression and other tasks that operate by constructing a multitude of decision trees at training time and outputting the class that is the mode of the classes (classification) or mean prediction (regression) of the individual trees. Random decision forests correct for decision trees' habit of overfitting to their training set.\n",
    "\n",
    "We will set the maximum depth of tree to 100 for better results.   \n",
    "I used this value after doing some testing on the data. (<100 : Low Accuracy, >100 : Large computing time)   \n",
    "\n",
    "The number of trees in the forest (n_estimators) is considerd as one of the most important factor for getting better accuracy.   \n",
    "We will use n_estimators = 10, 20, 50 to check the results."
   ]
  },
  {
   "cell_type": "code",
   "execution_count": 39,
   "metadata": {},
   "outputs": [
    {
     "name": "stdout",
     "output_type": "stream",
     "text": [
      "Using Random Forest Classifier (n_estimators=10):\n",
      "Mean Squared Error: 4.047688021930201\n",
      "Accuracy: 25.52339930816951\n",
      "runtime: 120.12788987159729 sec\n"
     ]
    }
   ],
   "source": [
    "start_time = time.time()\n",
    "\n",
    "# Train and Predict the data using Random Forest Classifier (n_estimators=10)\n",
    "randomForest10 = RandomForestClassifier(max_depth=100, n_estimators=10, max_features=1)\n",
    "randomForest10.fit(X_train, y_train)\n",
    "classifier_dict[\"Random Forest Classifier (n_estimators=10)\"] = randomForest10;\n",
    "y_pred_rfc = randomForest10.predict(X_dev)\n",
    "\n",
    "# Calculate the Mean Squared Error and Accuracy\n",
    "mse_rfc10_dev = mean_squared_error(y_dev, y_pred_rfc)\n",
    "accuracy_rfc10_dev = accuracy_score(y_dev, y_pred_rfc)*100\n",
    "\n",
    "# Print the Mean Squared Error and Accuracy\n",
    "print(\"Using Random Forest Classifier (n_estimators=10):\")\n",
    "print('Mean Squared Error:', mse_rfc10_dev)\n",
    "print('Accuracy:', accuracy_rfc10_dev)\n",
    "\n",
    "# Store the Mean Squared Error and Accuracy in dictionaries\n",
    "mse_dict[\"Random Forest Classifier (n_estimators=10)\"] = mse_rfc10_dev;\n",
    "accuracy_dict[\"Random Forest Classifier (n_estimators=10)\"] = accuracy_rfc10_dev;\n",
    "\n",
    "end_time = time.time()\n",
    "print(\"runtime: %s sec\" % (end_time - start_time))"
   ]
  },
  {
   "cell_type": "code",
   "execution_count": 40,
   "metadata": {},
   "outputs": [
    {
     "name": "stdout",
     "output_type": "stream",
     "text": [
      "Using Random Forest Classifier:\n",
      "\n",
      "Mean Squared Error: 3.9489608248601566\n",
      "Accuracy: 26.000819523723308\n",
      "runtime: 160.13300490379333 sec\n"
     ]
    }
   ],
   "source": [
    "start_time = time.time()\n",
    "\n",
    "# Train and Predict the data using Linear SVM (n_estimators=20)\n",
    "randomForest20 = RandomForestClassifier(max_depth=100, n_estimators=20, max_features=1)\n",
    "randomForest20.fit(X_train, y_train)\n",
    "classifier_dict[\"Random Forest Classifier (n_estimators=20)\"] = randomForest20;\n",
    "y_pred_rfc = randomForest20.predict(X_dev)\n",
    "\n",
    "# Calculate the Mean Squared Error and Accuracy\n",
    "mse_rfc20_dev = mean_squared_error(y_dev, y_pred_rfc)\n",
    "accuracy_rfc20_dev = accuracy_score(y_dev, y_pred_rfc)*100\n",
    "\n",
    "# Print the Mean Squared Error and Accuracy\n",
    "print(\"Using Random Forest Classifier (n_estimators=20):\")\n",
    "print('Mean Squared Error:', mse_rfc20_dev)\n",
    "print('Accuracy:', accuracy_rfc20_dev)\n",
    "\n",
    "# Store the Mean Squared Error and Accuracy in dictionaries\n",
    "mse_dict[\"Random Forest Classifier (n_estimators=20)\"] = mse_rfc20_dev;\n",
    "accuracy_dict[\"Random Forest Classifier (n_estimators=20)\"] = accuracy_rfc20_dev;\n",
    "\n",
    "end_time = time.time()\n",
    "print(\"runtime: %s sec\" % (end_time - start_time))"
   ]
  },
  {
   "cell_type": "code",
   "execution_count": 41,
   "metadata": {},
   "outputs": [
    {
     "name": "stdout",
     "output_type": "stream",
     "text": [
      "Using Random Forest Classifier:\n",
      "\n",
      "Mean Squared Error: 3.981268482959942\n",
      "Accuracy: 26.414710768478194\n",
      "runtime: 312.39597153663635 sec\n"
     ]
    }
   ],
   "source": [
    "start_time = time.time()\n",
    "\n",
    "# Train and Predict the data using Linear SVM (n_estimators=50)\n",
    "randomForest50 = RandomForestClassifier(max_depth=100, n_estimators=50, max_features=1)\n",
    "randomForest50.fit(X_train, y_train)\n",
    "classifier_dict[\"Random Forest Classifier (n_estimators=50)\"] = randomForest50;\n",
    "y_pred_rfc = randomForest50.predict(X_dev)\n",
    "\n",
    "# Calculate the Mean Squared Error and Accuracy\n",
    "mse_rfc50_dev = mean_squared_error(y_dev, y_pred_rfc)\n",
    "accuracy_rfc50_dev = accuracy_score(y_dev, y_pred_rfc)*100\n",
    "\n",
    "# Print the Mean Squared Error and Accuracy\n",
    "print(\"Using Random Forest Classifier (n_estimators=50):\")\n",
    "print('Mean Squared Error:', mse_rfc50_dev)\n",
    "print('Accuracy:', accuracy_rfc50_dev)\n",
    "\n",
    "# Store the Mean Squared Error and Accuracy in dictionaries\n",
    "mse_dict[\"Random Forest Classifier (n_estimators=50)\"] = mse_rfc50_dev;\n",
    "accuracy_dict[\"Random Forest Classifier (n_estimators=50)\"] = accuracy_rfc50_dev;\n",
    "\n",
    "end_time = time.time()\n",
    "print(\"runtime: %s sec\" % (end_time - start_time))"
   ]
  },
  {
   "cell_type": "markdown",
   "metadata": {},
   "source": [
    "## 8.4 k-Nearest Neighbour Classifier\n",
    "Reference:   \n",
    "https://scikit-learn.org/stable/modules/generated/sklearn.neighbors.KNeighborsClassifier.html"
   ]
  },
  {
   "cell_type": "markdown",
   "metadata": {},
   "source": [
    "I tried using k-Nearest Neighbour Classifier, but I removed it after following observations:   \n",
    "For large size of text data-   \n",
    "1. It was taking very high computation time for each value of k due to limited resources.   \n",
    "2. Mean square error was much higher than other classifiers   \n",
    "3. Accuracy was significantly less than other classifiers   \n",
    "   \n",
    "__________________________________________________________________________________________________________________\n",
    "\n",
    "If you have enough computing resources and time to execute kNN-   \n",
    "You can use the following code which I used earlier for testing:   \n",
    "\n",
    "<a href=\"https://pranitjaiswal.netlify.com/files/kNN.txt\" download>Click here to download kNN code</a>"
   ]
  },
  {
   "cell_type": "markdown",
   "metadata": {},
   "source": [
    "# 9. Compare results obtained from different classifiers\n",
    "\n",
    "We will compare and conclude which classifier is producing better result in terms of mean square error as well as accuracy.\n",
    "Then we will check the result for test dataset using same classifier."
   ]
  },
  {
   "cell_type": "code",
   "execution_count": 42,
   "metadata": {},
   "outputs": [],
   "source": [
    "mse_dict_list = sorted(mse_dict.items(), key=operator.itemgetter(1), reverse=False)\n",
    "accuracy_dict_list = sorted(accuracy_dict.items(), key=operator.itemgetter(1), reverse=True)"
   ]
  },
  {
   "cell_type": "code",
   "execution_count": 43,
   "metadata": {},
   "outputs": [
    {
     "data": {
      "text/plain": [
       "[('Linear SVC (C=100)', 2.7688784277850305),\n",
       " ('Linear SVC (C=1000)', 2.7689927799324687),\n",
       " ('Linear SVC (C=1)', 2.7691833668448655),\n",
       " ('Multinomial Naive Bayes', 2.9227900653395467),\n",
       " ('Random Forest Classifier (n_estimators=20)', 3.9489608248601566),\n",
       " ('Random Forest Classifier (n_estimators=50)', 3.981268482959942),\n",
       " ('Random Forest Classifier (n_estimators=10)', 4.047688021930201),\n",
       " ('Gaussian Naive Bayes', 12.583434185574477)]"
      ]
     },
     "execution_count": 43,
     "metadata": {},
     "output_type": "execute_result"
    }
   ],
   "source": [
    "# Print Mean Square Error for each classifier\n",
    "mse_dict_list"
   ]
  },
  {
   "cell_type": "code",
   "execution_count": 44,
   "metadata": {},
   "outputs": [
    {
     "data": {
      "text/plain": [
       "[('Linear SVC (C=100)', 32.42868078915688),\n",
       " ('Linear SVC (C=1000)', 32.42772785459489),\n",
       " ('Linear SVC (C=1)', 32.42042202295302),\n",
       " ('Multinomial Naive Bayes', 31.144124999602944),\n",
       " ('Random Forest Classifier (n_estimators=50)', 26.414710768478194),\n",
       " ('Random Forest Classifier (n_estimators=20)', 26.000819523723308),\n",
       " ('Random Forest Classifier (n_estimators=10)', 25.52339930816951),\n",
       " ('Gaussian Naive Bayes', 14.701239132575433)]"
      ]
     },
     "execution_count": 44,
     "metadata": {},
     "output_type": "execute_result"
    }
   ],
   "source": [
    "# Print Accuracy for each classifier\n",
    "accuracy_dict_list"
   ]
  },
  {
   "cell_type": "markdown",
   "metadata": {},
   "source": [
    "_______________________________________________________________________________________________________________________________\n",
    "Draw Graph to better visualize comparison between all Classifiers used\n",
    "_______________________________________________________________________________________________________________________________"
   ]
  },
  {
   "cell_type": "code",
   "execution_count": 45,
   "metadata": {},
   "outputs": [],
   "source": [
    "graph_classifier_list = [item[0] for item in mse_dict_list]\n",
    "graph_mse_list = [item[1] for item in mse_dict_list]\n",
    "graph_accuracy_list = [item[1] for item in accuracy_dict_list]"
   ]
  },
  {
   "cell_type": "code",
   "execution_count": 46,
   "metadata": {},
   "outputs": [
    {
     "data": {
      "text/plain": [
       "[(0, 14.583434185574477)]"
      ]
     },
     "execution_count": 46,
     "metadata": {},
     "output_type": "execute_result"
    },
    {
     "data": {
      "image/png": "[encoded data removed]",
      "text/plain": [
       "<Figure size 504x360 with 1 Axes>"
      ]
     },
     "metadata": {
      "needs_background": "light"
     },
     "output_type": "display_data"
    }
   ],
   "source": [
    "minY = 0;\n",
    "maxY = max(graph_mse_list)\n",
    "\n",
    "df = pd.DataFrame({'Mean Square Error': graph_mse_list}, index=graph_classifier_list)\n",
    "ax = df.plot(figsize=(7,5), kind='bar', stacked=True)\n",
    "\n",
    "ax. set(xlabel=\"Classifiers used\", ylabel=\"Mean Square Error\")\n",
    "\n",
    "ax.set(ylim=[minY, maxY+2])"
   ]
  },
  {
   "cell_type": "code",
   "execution_count": 47,
   "metadata": {},
   "outputs": [
    {
     "data": {
      "text/plain": [
       "[(0, 34.42868078915688)]"
      ]
     },
     "execution_count": 47,
     "metadata": {},
     "output_type": "execute_result"
    },
    {
     "data": {
      "image/png": "[encoded data removed]",
      "text/plain": [
       "<Figure size 504x360 with 1 Axes>"
      ]
     },
     "metadata": {
      "needs_background": "light"
     },
     "output_type": "display_data"
    }
   ],
   "source": [
    "minY = 0;\n",
    "maxY = max(graph_accuracy_list)\n",
    "\n",
    "df = pd.DataFrame({'Accuracy': graph_accuracy_list}, index=graph_classifier_list)\n",
    "ax = df.plot(figsize=(7,5), kind='bar', stacked=True)\n",
    "\n",
    "ax. set(xlabel=\"Classifiers used\", ylabel=\"Accuracy\")\n",
    "\n",
    "ax.set(ylim=[minY, maxY+2])"
   ]
  },
  {
   "cell_type": "markdown",
   "metadata": {},
   "source": [
    "# 10. Conclusion - Find the Best Classifier\n",
    "\n",
    "Based on the comparison above we will decide the best classifier along with its optimal hyperparameters.   \n",
    "   \n",
    "   \n",
    "While dealing with large text data, after testing multiple times we can observe that SVM is the best Classifier for text classification."
   ]
  },
  {
   "cell_type": "code",
   "execution_count": 60,
   "metadata": {},
   "outputs": [
    {
     "name": "stdout",
     "output_type": "stream",
     "text": [
      "Best Classifier considering lowest mean square error: ('Linear SVC (C=100)', 2.7688784277850305)\n",
      "Best Classifier considering highest accuracy: ('Linear SVC (C=100)', 32.42868078915688)\n"
     ]
    }
   ],
   "source": [
    "# Find the classifier with lowest Mean Square Error\n",
    "lowest_mse_classifier = mse_dict_list[0]\n",
    "\n",
    "# Find the classifier with highest Accuracy\n",
    "highest_accuracy_classifier = accuracy_dict_list[0]\n",
    "\n",
    "print(\"Best Classifier considering lowest mean square error:\", lowest_mse_classifier)\n",
    "print(\"Best Classifier considering highest accuracy:\", highest_accuracy_classifier)"
   ]
  },
  {
   "cell_type": "markdown",
   "metadata": {},
   "source": [
    "_______________________________________________________________________________________________________\n",
    "##### IMP Note:\n",
    "If the best classifier predicted by us are different as per Mean Square Error and Accuracy then-   \n",
    "I selected the classifier with low Mean Square Error.   \n",
    "Because, result values are not only 0 and 1.   \n",
    "We have 10 distinct values for result which may lead to low accuracy.   \n",
    "It will be very difficult to decide the best classifier by looking at the accuracy if the difference is not considerable.   \n",
    "To avoid this, in such cases we will select classifier with low mean square error as the Best Classifier for text data.\n",
    "_______________________________________________________________________________________________________"
   ]
  },
  {
   "cell_type": "code",
   "execution_count": 61,
   "metadata": {},
   "outputs": [
    {
     "name": "stdout",
     "output_type": "stream",
     "text": [
      "LinearSVC(C=100, class_weight=None, dual=False, fit_intercept=True,\n",
      "          intercept_scaling=1, loss='squared_hinge', max_iter=1000,\n",
      "          multi_class='ovr', penalty='l2', random_state=None, tol=0.0001,\n",
      "          verbose=0)\n"
     ]
    }
   ],
   "source": [
    "# Assign and Print name of Best Classifier\n",
    "best_classifier_name = mse_dict_list[0][0]\n",
    "bestClassifier = classifier_dict.get(best_classifier_name)\n",
    "print(bestClassifier)"
   ]
  },
  {
   "cell_type": "markdown",
   "metadata": {},
   "source": [
    "# 11. Calculate Final Results on Test Data using Best Classifier   \n",
    "\n",
    "* Predict Values   \n",
    "* Print Mean Squared Error & Accuracy"
   ]
  },
  {
   "cell_type": "code",
   "execution_count": 62,
   "metadata": {},
   "outputs": [
    {
     "name": "stdout",
     "output_type": "stream",
     "text": [
      "Using Best Classifier:\n",
      "\n",
      "Mean Squared Error: 2.7747079264845085\n",
      "Accuracy: 32.40380156153714\n"
     ]
    }
   ],
   "source": [
    "# Predict test data and get Results using Best Classifier\n",
    "y_pred_test = bestClassifier.predict(X_test)\n",
    "\n",
    "# Calculate the Mean Squared Error and Accuracy\n",
    "mse_test = mean_squared_error(y_test, y_pred_test)\n",
    "accuracy_test = accuracy_score(y_test, y_pred_test)*100\n",
    "\n",
    "# Print the Mean Squared Error and Accuracy\n",
    "print(\"Using Best Classifier:\\n\")\n",
    "print('Mean Squared Error:', mse_test)\n",
    "print('Accuracy:', accuracy_test)"
   ]
  },
  {
   "cell_type": "markdown",
   "metadata": {},
   "source": [
    "# 12. Take dump of the Best Classifier model along with its vectorizer\n",
    "This dump can be used to create a web application for rating prediction.\n",
    "\n",
    "I have also created one Rating Predictor using our best classifier model:   \n",
    "URL: http://ec2-107-21-86-146.compute-1.amazonaws.com:5000/predict\n"
   ]
  },
  {
   "cell_type": "code",
   "execution_count": 63,
   "metadata": {},
   "outputs": [],
   "source": [
    "# Take dump of Best Classifier using Pickle\n",
    "pickle.dump(bestClassifier, open('model.pkl', 'wb'))\n",
    "\n",
    "# Take dump of Vectorizer using Pickle\n",
    "pickle.dump(tfidfconverter, open('tfidfconverter1.pkl', 'wb'))\n",
    "\n",
    "# Take extra dump of Vectorizer using Pickle\n",
    "pickle.dump(tfidfconverter, open('tfidfconverter2.pickle', 'wb'))"
   ]
  },
  {
   "cell_type": "markdown",
   "metadata": {},
   "source": [
    "# 13. Create an input field to predict rating entered by user:\n",
    "You can Re-run the following block of code for predicting rating for different reviews.\n"
   ]
  },
  {
   "cell_type": "code",
   "execution_count": 65,
   "metadata": {},
   "outputs": [
    {
     "name": "stdout",
     "output_type": "stream",
     "text": [
      "Enter your review: worst\n",
      "Predicted Rating:  1\n",
      "\n"
     ]
    }
   ],
   "source": [
    "input_review = input('Enter your review: ') \n",
    "mcom = {'comment': [input_review]}\n",
    "mdf = pd.DataFrame(mcom, columns = ['comment'])\n",
    "X_single = tfidfconverter.transform(mdf['comment'])\n",
    "y_single = bestClassifier.predict(X_single)\n",
    "print(\"Predicted Rating: \", y_single[0])\n",
    "print()"
   ]
  },
  {
   "cell_type": "code",
   "execution_count": null,
   "metadata": {},
   "outputs": [],
   "source": []
  }
 ],
 "metadata": {
  "kernelspec": {
   "display_name": "Python 3",
   "language": "python",
   "name": "python3"
  },
  "language_info": {
   "codemirror_mode": {
    "name": "ipython",
    "version": 3
   },
   "file_extension": ".py",
   "mimetype": "text/x-python",
   "name": "python",
   "nbconvert_exporter": "python",
   "pygments_lexer": "ipython3",
   "version": "3.7.4"
  }
 },
 "nbformat": 4,
 "nbformat_minor": 2
}
