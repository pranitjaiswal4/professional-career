{
 "cells": [
  {
   "cell_type": "markdown",
   "metadata": {},
   "source": [
    "## a.\tDivide the dataset as development and test"
   ]
  },
  {
   "cell_type": "code",
   "execution_count": 1,
   "metadata": {},
   "outputs": [],
   "source": [
    "# imports here\n",
    "import numpy as np\n",
    "import pandas as pd\n",
    "import matplotlib.pyplot as plt\n",
    "import csv\n",
    "import random\n",
    "import math\n",
    "import operator "
   ]
  },
  {
   "cell_type": "code",
   "execution_count": 2,
   "metadata": {},
   "outputs": [
    {
     "name": "stdout",
     "output_type": "stream",
     "text": [
      "['5.1', '3.5', '1.4', '0.2', 'Iris-setosa']\n",
      "['4.9', '3.0', '1.4', '0.2', 'Iris-setosa']\n",
      "['4.7', '3.2', '1.3', '0.2', 'Iris-setosa']\n",
      "['4.6', '3.1', '1.5', '0.2', 'Iris-setosa']\n",
      "['5.0', '3.6', '1.4', '0.2', 'Iris-setosa']\n",
      "['5.4', '3.9', '1.7', '0.4', 'Iris-setosa']\n",
      "['4.6', '3.4', '1.4', '0.3', 'Iris-setosa']\n",
      "['5.0', '3.4', '1.5', '0.2', 'Iris-setosa']\n",
      "['4.4', '2.9', '1.4', '0.2', 'Iris-setosa']\n",
      "['4.9', '3.1', '1.5', '0.1', 'Iris-setosa']\n",
      "['5.4', '3.7', '1.5', '0.2', 'Iris-setosa']\n",
      "['4.8', '3.4', '1.6', '0.2', 'Iris-setosa']\n",
      "['4.8', '3.0', '1.4', '0.1', 'Iris-setosa']\n",
      "['4.3', '3.0', '1.1', '0.1', 'Iris-setosa']\n",
      "['5.8', '4.0', '1.2', '0.2', 'Iris-setosa']\n",
      "['5.7', '4.4', '1.5', '0.4', 'Iris-setosa']\n",
      "['5.4', '3.9', '1.3', '0.4', 'Iris-setosa']\n",
      "['5.1', '3.5', '1.4', '0.3', 'Iris-setosa']\n",
      "['5.7', '3.8', '1.7', '0.3', 'Iris-setosa']\n",
      "['5.1', '3.8', '1.5', '0.3', 'Iris-setosa']\n",
      "['5.4', '3.4', '1.7', '0.2', 'Iris-setosa']\n",
      "['5.1', '3.7', '1.5', '0.4', 'Iris-setosa']\n",
      "['4.6', '3.6', '1.0', '0.2', 'Iris-setosa']\n",
      "['5.1', '3.3', '1.7', '0.5', 'Iris-setosa']\n",
      "['4.8', '3.4', '1.9', '0.2', 'Iris-setosa']\n",
      "['5.0', '3.0', '1.6', '0.2', 'Iris-setosa']\n",
      "['5.0', '3.4', '1.6', '0.4', 'Iris-setosa']\n",
      "['5.2', '3.5', '1.5', '0.2', 'Iris-setosa']\n",
      "['5.2', '3.4', '1.4', '0.2', 'Iris-setosa']\n",
      "['4.7', '3.2', '1.6', '0.2', 'Iris-setosa']\n",
      "['4.8', '3.1', '1.6', '0.2', 'Iris-setosa']\n",
      "['5.4', '3.4', '1.5', '0.4', 'Iris-setosa']\n",
      "['5.2', '4.1', '1.5', '0.1', 'Iris-setosa']\n",
      "['5.5', '4.2', '1.4', '0.2', 'Iris-setosa']\n",
      "['4.9', '3.1', '1.5', '0.2', 'Iris-setosa']\n",
      "['5.0', '3.2', '1.2', '0.2', 'Iris-setosa']\n",
      "['5.5', '3.5', '1.3', '0.2', 'Iris-setosa']\n",
      "['4.9', '3.6', '1.4', '0.1', 'Iris-setosa']\n",
      "['4.4', '3.0', '1.3', '0.2', 'Iris-setosa']\n",
      "['5.1', '3.4', '1.5', '0.2', 'Iris-setosa']\n",
      "['5.0', '3.5', '1.3', '0.3', 'Iris-setosa']\n",
      "['4.5', '2.3', '1.3', '0.3', 'Iris-setosa']\n",
      "['4.4', '3.2', '1.3', '0.2', 'Iris-setosa']\n",
      "['5.0', '3.5', '1.6', '0.6', 'Iris-setosa']\n",
      "['5.1', '3.8', '1.9', '0.4', 'Iris-setosa']\n",
      "['4.8', '3.0', '1.4', '0.3', 'Iris-setosa']\n",
      "['5.1', '3.8', '1.6', '0.2', 'Iris-setosa']\n",
      "['4.6', '3.2', '1.4', '0.2', 'Iris-setosa']\n",
      "['5.3', '3.7', '1.5', '0.2', 'Iris-setosa']\n",
      "['5.0', '3.3', '1.4', '0.2', 'Iris-setosa']\n",
      "['7.0', '3.2', '4.7', '1.4', 'Iris-versicolor']\n",
      "['6.4', '3.2', '4.5', '1.5', 'Iris-versicolor']\n",
      "['6.9', '3.1', '4.9', '1.5', 'Iris-versicolor']\n",
      "['5.5', '2.3', '4.0', '1.3', 'Iris-versicolor']\n",
      "['6.5', '2.8', '4.6', '1.5', 'Iris-versicolor']\n",
      "['5.7', '2.8', '4.5', '1.3', 'Iris-versicolor']\n",
      "['6.3', '3.3', '4.7', '1.6', 'Iris-versicolor']\n",
      "['4.9', '2.4', '3.3', '1.0', 'Iris-versicolor']\n",
      "['6.6', '2.9', '4.6', '1.3', 'Iris-versicolor']\n",
      "['5.2', '2.7', '3.9', '1.4', 'Iris-versicolor']\n",
      "['5.0', '2.0', '3.5', '1.0', 'Iris-versicolor']\n",
      "['5.9', '3.0', '4.2', '1.5', 'Iris-versicolor']\n",
      "['6.0', '2.2', '4.0', '1.0', 'Iris-versicolor']\n",
      "['6.1', '2.9', '4.7', '1.4', 'Iris-versicolor']\n",
      "['5.6', '2.9', '3.6', '1.3', 'Iris-versicolor']\n",
      "['6.7', '3.1', '4.4', '1.4', 'Iris-versicolor']\n",
      "['5.6', '3.0', '4.5', '1.5', 'Iris-versicolor']\n",
      "['5.8', '2.7', '4.1', '1.0', 'Iris-versicolor']\n",
      "['6.2', '2.2', '4.5', '1.5', 'Iris-versicolor']\n",
      "['5.6', '2.5', '3.9', '1.1', 'Iris-versicolor']\n",
      "['5.9', '3.2', '4.8', '1.8', 'Iris-versicolor']\n",
      "['6.1', '2.8', '4.0', '1.3', 'Iris-versicolor']\n",
      "['6.3', '2.5', '4.9', '1.5', 'Iris-versicolor']\n",
      "['6.1', '2.8', '4.7', '1.2', 'Iris-versicolor']\n",
      "['6.4', '2.9', '4.3', '1.3', 'Iris-versicolor']\n",
      "['6.6', '3.0', '4.4', '1.4', 'Iris-versicolor']\n",
      "['6.8', '2.8', '4.8', '1.4', 'Iris-versicolor']\n",
      "['6.7', '3.0', '5.0', '1.7', 'Iris-versicolor']\n",
      "['6.0', '2.9', '4.5', '1.5', 'Iris-versicolor']\n",
      "['5.7', '2.6', '3.5', '1.0', 'Iris-versicolor']\n",
      "['5.5', '2.4', '3.8', '1.1', 'Iris-versicolor']\n",
      "['5.5', '2.4', '3.7', '1.0', 'Iris-versicolor']\n",
      "['5.8', '2.7', '3.9', '1.2', 'Iris-versicolor']\n",
      "['6.0', '2.7', '5.1', '1.6', 'Iris-versicolor']\n",
      "['5.4', '3.0', '4.5', '1.5', 'Iris-versicolor']\n",
      "['6.0', '3.4', '4.5', '1.6', 'Iris-versicolor']\n",
      "['6.7', '3.1', '4.7', '1.5', 'Iris-versicolor']\n",
      "['6.3', '2.3', '4.4', '1.3', 'Iris-versicolor']\n",
      "['5.6', '3.0', '4.1', '1.3', 'Iris-versicolor']\n",
      "['5.5', '2.5', '4.0', '1.3', 'Iris-versicolor']\n",
      "['5.5', '2.6', '4.4', '1.2', 'Iris-versicolor']\n",
      "['6.1', '3.0', '4.6', '1.4', 'Iris-versicolor']\n",
      "['5.8', '2.6', '4.0', '1.2', 'Iris-versicolor']\n",
      "['5.0', '2.3', '3.3', '1.0', 'Iris-versicolor']\n",
      "['5.6', '2.7', '4.2', '1.3', 'Iris-versicolor']\n",
      "['5.7', '3.0', '4.2', '1.2', 'Iris-versicolor']\n",
      "['5.7', '2.9', '4.2', '1.3', 'Iris-versicolor']\n",
      "['6.2', '2.9', '4.3', '1.3', 'Iris-versicolor']\n",
      "['5.1', '2.5', '3.0', '1.1', 'Iris-versicolor']\n",
      "['5.7', '2.8', '4.1', '1.3', 'Iris-versicolor']\n",
      "['6.3', '3.3', '6.0', '2.5', 'Iris-virginica']\n",
      "['5.8', '2.7', '5.1', '1.9', 'Iris-virginica']\n",
      "['7.1', '3.0', '5.9', '2.1', 'Iris-virginica']\n",
      "['6.3', '2.9', '5.6', '1.8', 'Iris-virginica']\n",
      "['6.5', '3.0', '5.8', '2.2', 'Iris-virginica']\n",
      "['7.6', '3.0', '6.6', '2.1', 'Iris-virginica']\n",
      "['4.9', '2.5', '4.5', '1.7', 'Iris-virginica']\n",
      "['7.3', '2.9', '6.3', '1.8', 'Iris-virginica']\n",
      "['6.7', '2.5', '5.8', '1.8', 'Iris-virginica']\n",
      "['7.2', '3.6', '6.1', '2.5', 'Iris-virginica']\n",
      "['6.5', '3.2', '5.1', '2.0', 'Iris-virginica']\n",
      "['6.4', '2.7', '5.3', '1.9', 'Iris-virginica']\n",
      "['6.8', '3.0', '5.5', '2.1', 'Iris-virginica']\n",
      "['5.7', '2.5', '5.0', '2.0', 'Iris-virginica']\n",
      "['5.8', '2.8', '5.1', '2.4', 'Iris-virginica']\n",
      "['6.4', '3.2', '5.3', '2.3', 'Iris-virginica']\n",
      "['6.5', '3.0', '5.5', '1.8', 'Iris-virginica']\n",
      "['7.7', '3.8', '6.7', '2.2', 'Iris-virginica']\n",
      "['7.7', '2.6', '6.9', '2.3', 'Iris-virginica']\n",
      "['6.0', '2.2', '5.0', '1.5', 'Iris-virginica']\n",
      "['6.9', '3.2', '5.7', '2.3', 'Iris-virginica']\n",
      "['5.6', '2.8', '4.9', '2.0', 'Iris-virginica']\n",
      "['7.7', '2.8', '6.7', '2.0', 'Iris-virginica']\n",
      "['6.3', '2.7', '4.9', '1.8', 'Iris-virginica']\n",
      "['6.7', '3.3', '5.7', '2.1', 'Iris-virginica']\n",
      "['7.2', '3.2', '6.0', '1.8', 'Iris-virginica']\n",
      "['6.2', '2.8', '4.8', '1.8', 'Iris-virginica']\n",
      "['6.1', '3.0', '4.9', '1.8', 'Iris-virginica']\n",
      "['6.4', '2.8', '5.6', '2.1', 'Iris-virginica']\n",
      "['7.2', '3.0', '5.8', '1.6', 'Iris-virginica']\n",
      "['7.4', '2.8', '6.1', '1.9', 'Iris-virginica']\n",
      "['7.9', '3.8', '6.4', '2.0', 'Iris-virginica']\n",
      "['6.4', '2.8', '5.6', '2.2', 'Iris-virginica']\n",
      "['6.3', '2.8', '5.1', '1.5', 'Iris-virginica']\n",
      "['6.1', '2.6', '5.6', '1.4', 'Iris-virginica']\n",
      "['7.7', '3.0', '6.1', '2.3', 'Iris-virginica']\n",
      "['6.3', '3.4', '5.6', '2.4', 'Iris-virginica']\n",
      "['6.4', '3.1', '5.5', '1.8', 'Iris-virginica']\n",
      "['6.0', '3.0', '4.8', '1.8', 'Iris-virginica']\n",
      "['6.9', '3.1', '5.4', '2.1', 'Iris-virginica']\n",
      "['6.7', '3.1', '5.6', '2.4', 'Iris-virginica']\n",
      "['6.9', '3.1', '5.1', '2.3', 'Iris-virginica']\n",
      "['5.8', '2.7', '5.1', '1.9', 'Iris-virginica']\n",
      "['6.8', '3.2', '5.9', '2.3', 'Iris-virginica']\n",
      "['6.7', '3.3', '5.7', '2.5', 'Iris-virginica']\n",
      "['6.7', '3.0', '5.2', '2.3', 'Iris-virginica']\n",
      "['6.3', '2.5', '5.0', '1.9', 'Iris-virginica']\n",
      "['6.5', '3.0', '5.2', '2.0', 'Iris-virginica']\n",
      "['6.2', '3.4', '5.4', '2.3', 'Iris-virginica']\n",
      "['5.9', '3.0', '5.1', '1.8', 'Iris-virginica']\n"
     ]
    }
   ],
   "source": [
    "# Read CSV file and print data\n",
    "\n",
    "filename = r'Data/bezdekIris.data'\n",
    "\n",
    "with open(filename) as csvfile:\n",
    "    lines = csv.reader(csvfile)\n",
    "    for row in lines:\n",
    "        if not row:\n",
    "                continue\n",
    "        print (row)"
   ]
  },
  {
   "cell_type": "code",
   "execution_count": 3,
   "metadata": {},
   "outputs": [
    {
     "name": "stdout",
     "output_type": "stream",
     "text": [
      "Length of devSet:\n",
      "82\n",
      "Length of testSet:\n",
      "68\n"
     ]
    }
   ],
   "source": [
    "# Divide dataset randomly into development and test datasets\n",
    "\n",
    "dataset=[]\n",
    "ratio_factor = 0.58\n",
    "devSet=[]\n",
    "testSet=[]\n",
    "\n",
    "with open(filename, 'r') as csvfile:\n",
    "        lines = csv.reader(csvfile)\n",
    "        \n",
    "        for row in lines:\n",
    "            if not row:\n",
    "                continue\n",
    "            dataset.append(row)\n",
    "        \n",
    "        for x in range(len(dataset)):\n",
    "            for y in range(4):\n",
    "                dataset[x][y] = float(dataset[x][y])\n",
    "                \n",
    "            if random.random() < ratio_factor:\n",
    "                devSet.append(dataset[x])\n",
    "            else:\n",
    "                testSet.append(dataset[x])\n",
    "                \n",
    "print ('Length of devSet:')\n",
    "#print (devSet)\n",
    "print (len(devSet))\n",
    "\n",
    "print ('Length of testSet:')\n",
    "print(len(testSet))"
   ]
  },
  {
   "cell_type": "markdown",
   "metadata": {},
   "source": [
    "## b. Implementing kNN using Distance Metric"
   ]
  },
  {
   "cell_type": "markdown",
   "metadata": {},
   "source": [
    "#### b. i) Euclidean Distance"
   ]
  },
  {
   "cell_type": "code",
   "execution_count": 4,
   "metadata": {},
   "outputs": [],
   "source": [
    "# Function to find Euclidean Distance\n",
    "\n",
    "eu_distances = []\n",
    "\n",
    "def euclidean_distance(rec1, rec2):\n",
    "    eu_dist = 0;\n",
    "    \n",
    "    for y in range(4):\n",
    "        eu_dist += pow((rec1[y] - rec2[y]), 2)\n",
    "        \n",
    "    eu_dist = math.sqrt(eu_dist)\n",
    "    eu_distances.append(eu_dist)\n",
    "    \n",
    "    return (eu_dist)"
   ]
  },
  {
   "cell_type": "markdown",
   "metadata": {},
   "source": [
    "#### b. i) Normalized Euclidean Distance"
   ]
  },
  {
   "cell_type": "code",
   "execution_count": 5,
   "metadata": {},
   "outputs": [],
   "source": [
    "# Function to find Normalized Euclidean Distance\n",
    "\n",
    "#Reference: chap2_data.pdf by Prof. Deok Gun Park\n",
    "# mahalanobis(x,y) = (x-y)^T . E^-1 . (x-y)\n",
    "# E is the covarience matrix\n",
    "\n",
    "max_eu_distance = 1\n",
    "\n",
    "def normalized_euclidean_distance(rec1, rec2):\n",
    "    eu_dist = 0;\n",
    "    \n",
    "    for y in range(4):\n",
    "        eu_dist += pow((rec1[y] - rec2[y]), 2)\n",
    "    \n",
    "    eu_dist = math.sqrt(eu_dist)\n",
    "    \n",
    "    norm_eu_dist = float(eu_dist)/max_eu_distance\n",
    "    \n",
    "    return (norm_eu_dist)"
   ]
  },
  {
   "cell_type": "markdown",
   "metadata": {},
   "source": [
    "#### b. iii) Cosine Similarity"
   ]
  },
  {
   "cell_type": "code",
   "execution_count": 6,
   "metadata": {},
   "outputs": [],
   "source": [
    "# Function to find Cosine Similarity\n",
    "\n",
    "def cosine_similarity(rec1, rec2):\n",
    "    inner_product = 0;\n",
    "    len_d1 = 0\n",
    "    len_d2 = 0\n",
    "    \n",
    "    for y in range(4):\n",
    "        inner_product += rec1[y] * rec2[y]\n",
    "        len_d1 += pow(rec1[y],2)\n",
    "        len_d2 += pow(rec2[y],2)\n",
    "        \n",
    "    den = math.sqrt(len_d1 * len_d2)\n",
    "    cosim = inner_product / den\n",
    "    \n",
    "    return (cosim)"
   ]
  },
  {
   "cell_type": "markdown",
   "metadata": {},
   "source": [
    "#### b. iv) Implementing kNN"
   ]
  },
  {
   "cell_type": "code",
   "execution_count": 7,
   "metadata": {},
   "outputs": [],
   "source": [
    "# Function to find neighbors using Euclidean Distance\n",
    "\n",
    "def checkEuNeighbors(dm,check_rec, k):\n",
    "    euclidean_distances = []\n",
    "    euNeighbors = []\n",
    "    \n",
    "    for x in range(len(devSet)):\n",
    "        if (devSet[x] == check_rec):\n",
    "            continue\n",
    "        \n",
    "        if(dm == 'e'):\n",
    "            eu_dist = euclidean_distance(devSet[x], check_rec)\n",
    "            euclidean_distances.append((devSet[x], eu_dist))\n",
    "            euclidean_distances.sort(key=operator.itemgetter(1), reverse=False)\n",
    "        if(dm == 'n'):\n",
    "            eu_dist = normalized_euclidean_distance(devSet[x], check_rec)\n",
    "            euclidean_distances.append((devSet[x], eu_dist))\n",
    "            euclidean_distances.sort(key=operator.itemgetter(1), reverse=False)\n",
    "        if(dm == 'c'):\n",
    "            eu_dist = cosine_similarity(devSet[x], check_rec)\n",
    "            euclidean_distances.append((devSet[x], eu_dist))\n",
    "            euclidean_distances.sort(key=operator.itemgetter(1), reverse=True)\n",
    "    \n",
    "    #print(euclidean_distances)\n",
    "    \n",
    "    for y in range(k):\n",
    "        euNeighbors.append(euclidean_distances[y][0])\n",
    "        \n",
    "    return euNeighbors;"
   ]
  },
  {
   "cell_type": "code",
   "execution_count": 8,
   "metadata": {},
   "outputs": [],
   "source": [
    "# Function to predict the class using Euclidean Distance\n",
    "\n",
    "def classPredictionUsingEuDist(dm, check_rec, k):    \n",
    "    euNeighbors = checkEuNeighbors(dm,check_rec, k)\n",
    "    result = [rec[-1] for rec in euNeighbors]\n",
    "    predict = max(set(result), key=result.count)\n",
    "    return predict"
   ]
  },
  {
   "cell_type": "code",
   "execution_count": 9,
   "metadata": {},
   "outputs": [],
   "source": [
    "# kNN Algorithm using Euclidean Distance\n",
    "def calculateEukNN(dm, testDataSet ,k):\n",
    "    predictions = []\n",
    "    \n",
    "    for x in range(len(testDataSet)):\n",
    "        \n",
    "        prediction = classPredictionUsingEuDist(dm,testDataSet[x], k)\n",
    "        predictions.append(prediction)\n",
    "        \n",
    "        #print(repr(devSet[x]) + '=' + repr(prediction))\n",
    "        \n",
    "    return(predictions)"
   ]
  },
  {
   "cell_type": "code",
   "execution_count": 10,
   "metadata": {},
   "outputs": [],
   "source": [
    "# Predictions using Euclidean Distance\n",
    "\n",
    "# Predictions for k = 1\n",
    "euPredictions1 = []\n",
    "euPredictions1 = calculateEukNN('e', devSet ,1)\n",
    "\n",
    "# Predictions for k = 3\n",
    "euPredictions3 = []\n",
    "euPredictions3 = calculateEukNN('e', devSet ,3)\n",
    "\n",
    "# Predictions for k = 5\n",
    "euPredictions5 = []\n",
    "euPredictions5 = calculateEukNN('e', devSet ,5)\n",
    "\n",
    "# Predictions for k = 7\n",
    "euPredictions7 = []\n",
    "euPredictions7 = calculateEukNN('e', devSet ,7)"
   ]
  },
  {
   "cell_type": "code",
   "execution_count": 11,
   "metadata": {},
   "outputs": [],
   "source": [
    "# Calculate max euclidean distance to use in normalization\n",
    "\n",
    "max_eu_distance = max(eu_distances)"
   ]
  },
  {
   "cell_type": "code",
   "execution_count": 12,
   "metadata": {},
   "outputs": [],
   "source": [
    "# Predictions using Normalized Euclidean Distance\n",
    "\n",
    "# Predictions for k = 1\n",
    "neuPredictions1 = []\n",
    "neuPredictions1 = calculateEukNN('n', devSet ,1)\n",
    "\n",
    "# Predictions for k = 3\n",
    "neuPredictions3 = []\n",
    "neuPredictions3 = calculateEukNN('n', devSet ,3)\n",
    "\n",
    "# Predictions for k = 5\n",
    "neuPredictions5 = []\n",
    "neuPredictions5 = calculateEukNN('n', devSet ,5)\n",
    "\n",
    "# Predictions for k = 7\n",
    "neuPredictions7 = []\n",
    "neuPredictions7 = calculateEukNN('n', devSet ,7)"
   ]
  },
  {
   "cell_type": "code",
   "execution_count": 13,
   "metadata": {},
   "outputs": [],
   "source": [
    "# Predictions using Cosine Similarity\n",
    "\n",
    "# Predictions for k = 1\n",
    "cosPredictions1 = []\n",
    "cosPredictions1 = calculateEukNN('c', devSet ,1)\n",
    "\n",
    "# Predictions for k = 3\n",
    "cosPredictions3 = []\n",
    "cosPredictions3 = calculateEukNN('c', devSet ,3)\n",
    "\n",
    "# Predictions for k = 5\n",
    "cosPredictions5 = []\n",
    "cosPredictions5 = calculateEukNN('c', devSet ,5)\n",
    "\n",
    "# Predictions for k = 7\n",
    "cosPredictions7 = []\n",
    "cosPredictions7 = calculateEukNN('c', devSet ,7)"
   ]
  },
  {
   "cell_type": "code",
   "execution_count": null,
   "metadata": {},
   "outputs": [],
   "source": []
  },
  {
   "cell_type": "markdown",
   "metadata": {},
   "source": [
    "## C. Operations on Development Dataset"
   ]
  },
  {
   "cell_type": "markdown",
   "metadata": {},
   "source": [
    "#### c. i) Calculate Accuracy using development dataset"
   ]
  },
  {
   "cell_type": "code",
   "execution_count": 14,
   "metadata": {},
   "outputs": [],
   "source": [
    "# Function to find the accuracy using predictions\n",
    "\n",
    "def calculateAccuracy(testDataSet, predictions):\n",
    "    count = 0\n",
    "    for x in range(len(testDataSet)):\n",
    "        if testDataSet[x][-1] == predictions[x]:\n",
    "            count += 1\n",
    "            \n",
    "    accuracy = (count/float(len(testDataSet))) * 100.0\n",
    "    return accuracy"
   ]
  },
  {
   "cell_type": "code",
   "execution_count": 15,
   "metadata": {},
   "outputs": [
    {
     "name": "stdout",
     "output_type": "stream",
     "text": [
      "96.34146341463415\n",
      "97.5609756097561\n",
      "96.34146341463415\n",
      "97.5609756097561\n"
     ]
    }
   ],
   "source": [
    "# Calculate accuracy for devSet using Euclidean Distance\n",
    "# for k = 1,3,5,7\n",
    "\n",
    "euAccuracy1 = calculateAccuracy(devSet, euPredictions1)\n",
    "euAccuracy3 = calculateAccuracy(devSet, euPredictions3)\n",
    "euAccuracy5 = calculateAccuracy(devSet, euPredictions5)\n",
    "euAccuracy7 = calculateAccuracy(devSet, euPredictions7)\n",
    "\n",
    "print(euAccuracy1)\n",
    "print(euAccuracy3)\n",
    "print(euAccuracy5)\n",
    "print(euAccuracy7)"
   ]
  },
  {
   "cell_type": "code",
   "execution_count": 16,
   "metadata": {},
   "outputs": [
    {
     "name": "stdout",
     "output_type": "stream",
     "text": [
      "96.34146341463415\n",
      "97.5609756097561\n",
      "96.34146341463415\n",
      "97.5609756097561\n"
     ]
    }
   ],
   "source": [
    "# Calculate accuracy for devSet using Euclidean Distance\n",
    "# for k = 1,3,5,7\n",
    "\n",
    "neuAccuracy1 = calculateAccuracy(devSet, neuPredictions1)\n",
    "neuAccuracy3 = calculateAccuracy(devSet, neuPredictions3)\n",
    "neuAccuracy5 = calculateAccuracy(devSet, neuPredictions5)\n",
    "neuAccuracy7 = calculateAccuracy(devSet, neuPredictions7)\n",
    "\n",
    "print(neuAccuracy1)\n",
    "print(neuAccuracy3)\n",
    "print(neuAccuracy5)\n",
    "print(neuAccuracy7)"
   ]
  },
  {
   "cell_type": "code",
   "execution_count": 17,
   "metadata": {},
   "outputs": [
    {
     "name": "stdout",
     "output_type": "stream",
     "text": [
      "96.34146341463415\n",
      "95.1219512195122\n",
      "95.1219512195122\n",
      "96.34146341463415\n"
     ]
    }
   ],
   "source": [
    "# Calculate accuracy for devSet using Cosine Similarity\n",
    "# for k = 1,3,5,7\n",
    "\n",
    "cosAccuracy1 = calculateAccuracy(devSet, cosPredictions1)\n",
    "cosAccuracy3 = calculateAccuracy(devSet, cosPredictions3)\n",
    "cosAccuracy5 = calculateAccuracy(devSet, cosPredictions5)\n",
    "cosAccuracy7 = calculateAccuracy(devSet, cosPredictions7)\n",
    "\n",
    "print(cosAccuracy1)\n",
    "print(cosAccuracy3)\n",
    "print(cosAccuracy5)\n",
    "print(cosAccuracy7)"
   ]
  },
  {
   "cell_type": "markdown",
   "metadata": {},
   "source": [
    "#### c. ii) Find optimal hyperparameters which give maximum accuracy"
   ]
  },
  {
   "cell_type": "code",
   "execution_count": 18,
   "metadata": {},
   "outputs": [
    {
     "name": "stdout",
     "output_type": "stream",
     "text": [
      "Optimal hyperparameters which give maximum accuracy:\n",
      "['Euclidean Distance', 'k=3', 97.5609756097561]\n"
     ]
    }
   ],
   "source": [
    "# Find optimal hyperparameters which give maximum accuracy\n",
    "\n",
    "accuracies = []\n",
    "\n",
    "accuracies.append(['Euclidean Distance',\"k=1\",euAccuracy1])\n",
    "accuracies.append(['Euclidean Distance',\"k=3\",euAccuracy3])\n",
    "accuracies.append(['Euclidean Distance',\"k=5\",euAccuracy5])\n",
    "accuracies.append(['Euclidean Distance',\"k=7\",euAccuracy7])\n",
    "\n",
    "accuracies.append(['Normalized Euclidean Distance',\"k=1\",neuAccuracy1])\n",
    "accuracies.append(['Normalized Euclidean Distance',\"k=3\",neuAccuracy3])\n",
    "accuracies.append(['Normalized Euclidean Distance',\"k=5\",neuAccuracy5])\n",
    "accuracies.append(['Normalized Euclidean Distance',\"k=7\",neuAccuracy7])\n",
    "\n",
    "accuracies.append(['Cosine Similarity',\"k=1\",cosAccuracy1])\n",
    "accuracies.append(['Cosine Similarity',\"k=3\",cosAccuracy3])\n",
    "accuracies.append(['Cosine Similarity',\"k=5\",cosAccuracy5])\n",
    "accuracies.append(['Cosine Similarity',\"k=7\",cosAccuracy7])\n",
    "\n",
    "accuracies.sort(key=operator.itemgetter(2), reverse=True)\n",
    "max_accuracy = accuracies[0][2]\n",
    "print('Optimal hyperparameters which give maximum accuracy:')\n",
    "print(accuracies[0])\n",
    "\n",
    "accuracies.sort(key=operator.itemgetter(2), reverse=False)\n",
    "min_accuracy = accuracies[0][2]"
   ]
  },
  {
   "cell_type": "markdown",
   "metadata": {},
   "source": [
    "#### c. iii) Draw bar charts for accuracy"
   ]
  },
  {
   "cell_type": "code",
   "execution_count": 19,
   "metadata": {},
   "outputs": [
    {
     "data": {
      "text/plain": [
       "[(94.1219512195122, 97.5609756097561)]"
      ]
     },
     "execution_count": 19,
     "metadata": {},
     "output_type": "execute_result"
    },
    {
     "data": {
      "image/png": "[encoded data removed]",
      "text/plain": [
       "<Figure size 432x288 with 1 Axes>"
      ]
     },
     "metadata": {
      "needs_background": "light"
     },
     "output_type": "display_data"
    }
   ],
   "source": [
    "euAc = [euAccuracy1, euAccuracy3, euAccuracy5, euAccuracy7]\n",
    "neuAc = [neuAccuracy1, neuAccuracy3, neuAccuracy5, neuAccuracy7]\n",
    "cosAc = [cosAccuracy1, cosAccuracy3, cosAccuracy5, cosAccuracy7]\n",
    "kVal = ['k=1', 'k=3', 'k=5', 'k=7']\n",
    "\n",
    "df = pd.DataFrame({'Eculidean': euAc, 'Normalized Euclidean': neuAc, 'Cosine': cosAc}, index=kVal)\n",
    "\n",
    "ax = df.plot.bar()\n",
    "ax.set(ylim=[min_accuracy-1, max_accuracy])"
   ]
  },
  {
   "cell_type": "markdown",
   "metadata": {},
   "source": [
    "## d. Calculate final accuracy for Test Dataset"
   ]
  },
  {
   "cell_type": "code",
   "execution_count": 20,
   "metadata": {},
   "outputs": [],
   "source": [
    "# Predictions using Euclidean Distance\n",
    "\n",
    "# Predictions for k = 1\n",
    "euPredictionstestSet1 = []\n",
    "euPredictionstestSet1 = calculateEukNN('e', testSet ,1)\n",
    "\n",
    "# Predictions for k = 3\n",
    "euPredictionstestSet3 = []\n",
    "euPredictionstestSet3 = calculateEukNN('e', testSet ,3)\n",
    "\n",
    "# Predictions for k = 5\n",
    "euPredictionstestSet5 = []\n",
    "euPredictionstestSet5 = calculateEukNN('e', testSet ,5)\n",
    "\n",
    "# Predictions for k = 7\n",
    "euPredictionstestSet7 = []\n",
    "euPredictionstestSet7 = calculateEukNN('e', testSet ,7)"
   ]
  },
  {
   "cell_type": "code",
   "execution_count": 21,
   "metadata": {},
   "outputs": [],
   "source": [
    "# Predictions using Normalized Euclidean Distance\n",
    "\n",
    "# Predictions for k = 1\n",
    "neuPredictionstestSet1 = []\n",
    "neuPredictionstestSet1 = calculateEukNN('n', testSet ,1)\n",
    "\n",
    "# Predictions for k = 3\n",
    "neuPredictionstestSet3 = []\n",
    "neuPredictionstestSet3 = calculateEukNN('n', testSet ,3)\n",
    "\n",
    "# Predictions for k = 5\n",
    "neuPredictionstestSet5 = []\n",
    "neuPredictionstestSet5 = calculateEukNN('n', testSet ,5)\n",
    "\n",
    "# Predictions for k = 7\n",
    "neuPredictionstestSet7 = []\n",
    "neuPredictionstestSet7 = calculateEukNN('n', testSet ,7)"
   ]
  },
  {
   "cell_type": "code",
   "execution_count": 22,
   "metadata": {},
   "outputs": [],
   "source": [
    "# Predictions using Cosine Similarity\n",
    "\n",
    "# Predictions for k = 1\n",
    "cosPredictionstestSet1 = []\n",
    "cosPredictionstestSet1 = calculateEukNN('c', testSet ,1)\n",
    "\n",
    "# Predictions for k = 3\n",
    "cosPredictionstestSet3 = []\n",
    "cosPredictionstestSet3 = calculateEukNN('c', testSet ,3)\n",
    "\n",
    "# Predictions for k = 5\n",
    "cosPredictionstestSet5 = []\n",
    "cosPredictionstestSet5 = calculateEukNN('c', testSet ,5)\n",
    "\n",
    "# Predictions for k = 7\n",
    "cosPredictionsv7 = []\n",
    "cosPredictionstestSet7 = calculateEukNN('c', testSet ,7)"
   ]
  },
  {
   "cell_type": "code",
   "execution_count": 23,
   "metadata": {},
   "outputs": [
    {
     "name": "stdout",
     "output_type": "stream",
     "text": [
      "94.11764705882352\n",
      "95.58823529411765\n",
      "95.58823529411765\n",
      "95.58823529411765\n"
     ]
    }
   ],
   "source": [
    "# Calculate accuracy for testSet using Euclidean Distance\n",
    "# for k = 1,3,5,7\n",
    "\n",
    "euAccuracytestSet1 = calculateAccuracy(testSet, euPredictionstestSet1)\n",
    "euAccuracytestSet3 = calculateAccuracy(testSet, euPredictionstestSet3)\n",
    "euAccuracytestSet5 = calculateAccuracy(testSet, euPredictionstestSet5)\n",
    "euAccuracytestSet7 = calculateAccuracy(testSet, euPredictionstestSet7)\n",
    "\n",
    "print(euAccuracytestSet1)\n",
    "print(euAccuracytestSet3)\n",
    "print(euAccuracytestSet5)\n",
    "print(euAccuracytestSet7)"
   ]
  },
  {
   "cell_type": "code",
   "execution_count": 24,
   "metadata": {},
   "outputs": [
    {
     "name": "stdout",
     "output_type": "stream",
     "text": [
      "94.11764705882352\n",
      "95.58823529411765\n",
      "95.58823529411765\n",
      "95.58823529411765\n"
     ]
    }
   ],
   "source": [
    "# Calculate accuracy for testSet using Euclidean Distance\n",
    "# for k = 1,3,5,7\n",
    "\n",
    "neuAccuracytestSet1 = calculateAccuracy(testSet, neuPredictionstestSet1)\n",
    "neuAccuracytestSet3 = calculateAccuracy(testSet, neuPredictionstestSet3)\n",
    "neuAccuracytestSet5 = calculateAccuracy(testSet, neuPredictionstestSet5)\n",
    "neuAccuracytestSet7 = calculateAccuracy(testSet, neuPredictionstestSet7)\n",
    "\n",
    "print(neuAccuracytestSet1)\n",
    "print(neuAccuracytestSet3)\n",
    "print(neuAccuracytestSet5)\n",
    "print(neuAccuracytestSet7)"
   ]
  },
  {
   "cell_type": "code",
   "execution_count": 25,
   "metadata": {},
   "outputs": [
    {
     "name": "stdout",
     "output_type": "stream",
     "text": [
      "98.52941176470588\n",
      "98.52941176470588\n",
      "97.05882352941177\n",
      "95.58823529411765\n"
     ]
    }
   ],
   "source": [
    "# Calculate accuracy for testSet using Cosine Similarity\n",
    "# for k = 1,3,5,7\n",
    "\n",
    "cosAccuracytestSet1 = calculateAccuracy(testSet, cosPredictionstestSet1)\n",
    "cosAccuracytestSet3 = calculateAccuracy(testSet, cosPredictionstestSet3)\n",
    "cosAccuracytestSet5 = calculateAccuracy(testSet, cosPredictionstestSet5)\n",
    "cosAccuracytestSet7 = calculateAccuracy(testSet, cosPredictionstestSet7)\n",
    "\n",
    "print(cosAccuracytestSet1)\n",
    "print(cosAccuracytestSet3)\n",
    "print(cosAccuracytestSet5)\n",
    "print(cosAccuracytestSet7)"
   ]
  }
 ],
 "metadata": {
  "kernelspec": {
   "display_name": "Python 3",
   "language": "python",
   "name": "python3"
  },
  "language_info": {
   "codemirror_mode": {
    "name": "ipython",
    "version": 3
   },
   "file_extension": ".py",
   "mimetype": "text/x-python",
   "name": "python",
   "nbconvert_exporter": "python",
   "pygments_lexer": "ipython3",
   "version": "3.7.4"
  }
 },
 "nbformat": 4,
 "nbformat_minor": 2
}
